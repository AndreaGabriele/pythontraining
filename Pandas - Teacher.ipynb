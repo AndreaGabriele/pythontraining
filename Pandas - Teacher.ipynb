{
 "cells": [
  {
   "cell_type": "markdown",
   "metadata": {
    "collapsed": true
   },
   "source": [
    "# Python - Pandas\n",
    "Andrea Gabriele - Procter & Gamble - 2018 - gabriele.a@pg.com"
   ]
  },
  {
   "cell_type": "markdown",
   "metadata": {},
   "source": [
    "Python has long been great for data munging and preparation, but less so for data analysis and modeling. \n",
    "\n",
    "Pandas helps fill this gap, enabling data analysis workflow in Python without having to switch to a more domain specific language like R.\n",
    "\n",
    "* Pandas introduces the concept of DataFrame for manipulating data with indexing\n",
    "* Reading / Writing data between in-memory and different formats (CSV / Excel, SQL databases)\n",
    "* Handling of missing data: easily manipulate messy data into an orderly form\n",
    "* Flexible reshaping and pivoting of data sets\n",
    "* Label-based slicing, subsetting of large data sets\n",
    "* Columns can be inserted and deleted from data structures for size mutability\n",
    "* Merging and joining of data sets\n",
    "* Handle Time series: \n",
    "    * Date range generation and frequency conversion, \n",
    "    * Moving window statistics\n",
    "    * Moving window linear regressions\n",
    "    * Date shifting and lagging\n",
    "\n",
    "\n"
   ]
  },
  {
   "cell_type": "markdown",
   "metadata": {},
   "source": [
    "## Dictionary\n",
    "\n",
    "#### _*Dictionaries in Python are lists of Key:Value pairs.*_\n",
    "\n",
    "This is a very powerful datatype to hold a lot of related information that can be associated through keys. The main operation of a dictionary is to extract a value based on the key name. \n",
    "\n",
    "Unlike lists, where index numbers are used, dictionaries allow the use of a key to access its members. Dictionaries can also be used to sort, iterate and compare data.\n",
    "\n",
    "Dictionaries are created by using braces `{` `}` with pairs separated by a comma `,` and the key values associated with a column `:`. \n",
    "\n",
    "In Dictionaries the Key must be unique. Here is a quick example on how dictionaries might be used:"
   ]
  },
  {
   "cell_type": "code",
   "execution_count": 2,
   "metadata": {
    "collapsed": true
   },
   "outputs": [
    {
     "ename": "SyntaxError",
     "evalue": "invalid syntax (<ipython-input-2-4f28bc21e20c>, line 2)",
     "output_type": "error",
     "traceback": [
      "\u001b[1;36m  File \u001b[1;32m\"<ipython-input-2-4f28bc21e20c>\"\u001b[1;36m, line \u001b[1;32m2\u001b[0m\n\u001b[1;33m    <key>: <value>,\u001b[0m\n\u001b[1;37m    ^\u001b[0m\n\u001b[1;31mSyntaxError\u001b[0m\u001b[1;31m:\u001b[0m invalid syntax\n"
     ]
    }
   ],
   "source": [
    "d = {\n",
    "    <key>: <value>,\n",
    "    <key>: <value>,\n",
    "      .\n",
    "      .\n",
    "      .\n",
    "    <key>: <value>\n",
    "}"
   ]
  },
  {
   "cell_type": "code",
   "execution_count": 11,
   "metadata": {},
   "outputs": [],
   "source": [
    "room_num = {'john': 425, \n",
    "            'tom': 212,\n",
    "            'jim': 112}"
   ]
  },
  {
   "cell_type": "markdown",
   "metadata": {},
   "source": [
    "### Accessing Dictionary Values\n",
    "Dictionary elements must be accessible somehow. If you don’t get them by index, then how do you get them?\n",
    "A value is retrieved from a dictionary by specifying its corresponding key in square brackets ([]):"
   ]
  },
  {
   "cell_type": "code",
   "execution_count": 12,
   "metadata": {},
   "outputs": [
    {
     "name": "stdout",
     "output_type": "stream",
     "text": [
      "112\n"
     ]
    }
   ],
   "source": [
    "room_num['john'] = 645  # set the value associated with the 'john' key to 645\n",
    "print (room_num['jim']) # print the value of the 'tom' key."
   ]
  },
  {
   "cell_type": "markdown",
   "metadata": {},
   "source": [
    "Adding an entry to an existing dictionary is simply a matter of assigning a new key and value:"
   ]
  },
  {
   "cell_type": "code",
   "execution_count": 13,
   "metadata": {},
   "outputs": [
    {
     "name": "stdout",
     "output_type": "stream",
     "text": [
      "dict_values([212, 345, 112, 645])\n"
     ]
    }
   ],
   "source": [
    "room_num['isaac'] = 345 # Add a new key 'isaac' with the associated value\n",
    "print (room_num.values()) # print out a list of keys in the dictionary"
   ]
  },
  {
   "cell_type": "markdown",
   "metadata": {},
   "source": [
    "If you want to update an entry, you can just assign a new value to an existing key:"
   ]
  },
  {
   "cell_type": "code",
   "execution_count": 15,
   "metadata": {},
   "outputs": [
    {
     "name": "stdout",
     "output_type": "stream",
     "text": [
      "645\n",
      "1233\n"
     ]
    }
   ],
   "source": [
    "print (room_num['john']) # John Current Room \n",
    "\n",
    "room_num['john'] = 1233  # set the value associated with the 'john' key to 645\n",
    "print (room_num['john'])\n",
    "\n"
   ]
  },
  {
   "cell_type": "markdown",
   "metadata": {},
   "source": [
    "#### Dictionary Methods\n",
    "Here are some other common dictionaries methods.\n",
    "\n",
    "* clear()\n",
    "    * Removes all the elements from the dictionary\n",
    "    \n",
    "* copy()\n",
    "    * Returns a copy of the dictionary\n",
    "    \n",
    "* fromkeys()\n",
    "    * Returns a dictionary with the specified keys and values\n",
    "    \n",
    "* get()\n",
    "    * Returns the value of the specified key\n",
    "    \n",
    "* items()\n",
    "    * Returns a list containing the a tuple for each key value pair\n",
    "    \n",
    "* keys()\n",
    "    * Returns a list contianing the dictionary's keys\n",
    "    \n",
    "* pop() \n",
    "    * Removes the element with the specified key\n",
    "    \n",
    "* popitem()\n",
    "    * Removes the last inserted key-value pair\n",
    "\n",
    "* setdefault()\n",
    "    * Returns the value of the specified key. If the key does not exist: insert the key, with the specified value\n",
    "\n",
    "* update()\n",
    "    * Updates the dictionary with the specified key-value pairs\n",
    "\n",
    "* values()\n",
    "    * Returns a list of all the values in the dictionary\n",
    "\n"
   ]
  },
  {
   "cell_type": "markdown",
   "metadata": {
    "collapsed": true
   },
   "source": [
    "## <span style=\"color:blue\"> **Exercise** </span>\n",
    "\n",
    "1. Create your own Dictionary / Practive with Dictionaty methonds"
   ]
  },
  {
   "cell_type": "code",
   "execution_count": 32,
   "metadata": {},
   "outputs": [
    {
     "name": "stdout",
     "output_type": "stream",
     "text": [
      "{'brand': 'Ford', 'year': 1964, 'model': 'Mustang'}\n"
     ]
    }
   ],
   "source": [
    "#Result\n",
    "thisdict ={\n",
    "  \"brand\": \"Ford\",\n",
    "  \"model\": \"Mustang\",\n",
    "  \"year\": 1964\n",
    "}\n",
    "print(thisdict)"
   ]
  },
  {
   "cell_type": "code",
   "execution_count": 3,
   "metadata": {},
   "outputs": [
    {
     "name": "stdout",
     "output_type": "stream",
     "text": [
      "{'brand': [1, 2, 3], 'model': [11, 21, 31], 'year': 1964}\n"
     ]
    }
   ],
   "source": [
    "thisdict ={\n",
    "  \"brand\": [1,2,3],\n",
    "  \"model\": [11,21,31],\n",
    "  \"year\": 1964\n",
    "}\n",
    "print(thisdict)"
   ]
  },
  {
   "cell_type": "code",
   "execution_count": 5,
   "metadata": {},
   "outputs": [
    {
     "data": {
      "text/plain": [
       "[11, 21, 31]"
      ]
     },
     "execution_count": 5,
     "metadata": {},
     "output_type": "execute_result"
    }
   ],
   "source": [
    "thisdict[\"model\"]"
   ]
  },
  {
   "cell_type": "code",
   "execution_count": 18,
   "metadata": {},
   "outputs": [
    {
     "data": {
      "text/plain": [
       "dict"
      ]
     },
     "execution_count": 18,
     "metadata": {},
     "output_type": "execute_result"
    }
   ],
   "source": [
    "person = {}\n",
    "type(person)\n"
   ]
  },
  {
   "cell_type": "code",
   "execution_count": 19,
   "metadata": {},
   "outputs": [],
   "source": [
    "person['fname'] = 'Joe'\n",
    "person['lname'] = 'Fonebone'\n",
    "person['age'] = 51\n",
    "person['spouse'] = 'Edna'\n",
    "person['children'] = ['Ralph', 'Betty', 'Joey']\n",
    "person['pets'] = {'dog': 'Fido', 'cat': 'Sox'}"
   ]
  },
  {
   "cell_type": "markdown",
   "metadata": {},
   "source": [
    "`.itmes()`\n",
    "Returns a list of key-value pairs in a dictionary.\n",
    "`person.items()`\n",
    "\n"
   ]
  },
  {
   "cell_type": "code",
   "execution_count": 20,
   "metadata": {},
   "outputs": [
    {
     "data": {
      "text/plain": [
       "dict_items([('spouse', 'Edna'), ('children', ['Ralph', 'Betty', 'Joey']), ('fname', 'Joe'), ('age', 51), ('lname', 'Fonebone'), ('pets', {'cat': 'Sox', 'dog': 'Fido'})])"
      ]
     },
     "execution_count": 20,
     "metadata": {},
     "output_type": "execute_result"
    }
   ],
   "source": [
    "person.items()"
   ]
  },
  {
   "cell_type": "code",
   "execution_count": null,
   "metadata": {},
   "outputs": [],
   "source": []
  },
  {
   "cell_type": "code",
   "execution_count": 1,
   "metadata": {},
   "outputs": [],
   "source": [
    "# import Pandas Module\n",
    "import pandas as pd \n"
   ]
  },
  {
   "cell_type": "markdown",
   "metadata": {},
   "source": [
    "### DataFrames\n",
    "A Data frame is a two-dimensional data structure, i.e., data is aligned in a tabular fashion in rows and columns.\n",
    "\n",
    "#### Features of DataFrame\n",
    "- Potentially columns are of different types\n",
    "- Size – Mutable\n",
    "- Labeled axes (rows and columns)\n",
    "- Can Perform Arithmetic operations on rows and columns"
   ]
  },
  {
   "cell_type": "code",
   "execution_count": null,
   "metadata": {},
   "outputs": [],
   "source": [
    "help(pd.DataFrame)"
   ]
  },
  {
   "cell_type": "markdown",
   "metadata": {},
   "source": [
    "A pandas DataFrame can be created using various inputs like:\n",
    "\n",
    "- Lists\n",
    "- dict\n",
    "- Series\n",
    "- Numpy ndarrays\n",
    "- Another DataFrames\n",
    "\n",
    "Another way of creating a DataFrame:"
   ]
  },
  {
   "cell_type": "markdown",
   "metadata": {},
   "source": [
    "##### Data Frames from Lists"
   ]
  },
  {
   "cell_type": "code",
   "execution_count": null,
   "metadata": {},
   "outputs": [],
   "source": [
    "# The inital set of baby names and bith rates\n",
    "names = ['Bob','Jessica','Mary','John','Mel']\n",
    "births = [968, 155, 77, 578, 973]\n",
    "\n",
    "# to merge two lists by the second dimetion you can use zip\n",
    "BabyDataSet = list(zip(names,births))"
   ]
  },
  {
   "cell_type": "code",
   "execution_count": null,
   "metadata": {},
   "outputs": [],
   "source": [
    "df = pd.DataFrame(data = BabyDataSet, columns=['Names', 'Births'])\n",
    "df"
   ]
  },
  {
   "cell_type": "markdown",
   "metadata": {},
   "source": [
    "# Dataframes from Dictionaries"
   ]
  },
  {
   "cell_type": "code",
   "execution_count": null,
   "metadata": {},
   "outputs": [],
   "source": [
    "df = pd.DataFrame({'names':names,'births':births})\n",
    "df"
   ]
  },
  {
   "cell_type": "markdown",
   "metadata": {},
   "source": [
    "##### DataFrames from Nunmpy Arrays"
   ]
  },
  {
   "cell_type": "code",
   "execution_count": null,
   "metadata": {},
   "outputs": [],
   "source": [
    "import numpy as np\n",
    "\n",
    "exact_vector = np.arange(16) + np.random.rand()\n",
    "round_vector = np.round(exact_vector)\n",
    "\n",
    "data = np.vstack((exact_vector,round_vector))\n",
    "\n",
    "data = np.transpose(data)\n",
    "\n",
    "df = pd.DataFrame(data)\n",
    "df"
   ]
  },
  {
   "cell_type": "code",
   "execution_count": null,
   "metadata": {},
   "outputs": [],
   "source": [
    "# Ranaming Colums\n",
    "df = df.rename(columns = {0:'Exact Numbers',\n",
    "                          1:'Round Numbers'})\n",
    "\n",
    "df['Error'] = (df['Exact Numbers']- df['Round Numbers'])/df['Round Numbers']\n",
    "\n",
    "df.head(5)\n",
    "\n"
   ]
  },
  {
   "cell_type": "code",
   "execution_count": null,
   "metadata": {},
   "outputs": [],
   "source": [
    "%matplotlib inline\n",
    "\n",
    "df.plot.scatter(x ='Exact Numbers', y= 'Round Numbers', title = 'Plot Rounding')\n",
    "df.plot.scatter(x ='Exact Numbers', y= 'Error', title = 'Plot Error')"
   ]
  },
  {
   "cell_type": "code",
   "execution_count": null,
   "metadata": {},
   "outputs": [],
   "source": [
    "# Alternatively it is possible to use the List property of storing Numbers and Strings\n",
    "data = np.array([['','Col1','Col2'],\n",
    "                ['Row1',1,2],\n",
    "                ['Row2',3,4]])\n",
    "                \n",
    "print(pd.DataFrame(data=data[1:,1:],\n",
    "                  index=data[1:,0],\n",
    "                  columns=data[0,1:]))"
   ]
  },
  {
   "cell_type": "markdown",
   "metadata": {},
   "source": [
    "## <span style=\"color:blue\"> **Exercise** </span>\n",
    "\n",
    "1. Create a DataFrame and visualize in a graph the two arrays below, using what you have learned untill now\n",
    "\n",
    "(categporical x-axis data can be plotted with the kind='bar' argument)\n",
    "\n"
   ]
  },
  {
   "cell_type": "code",
   "execution_count": 25,
   "metadata": {},
   "outputs": [
    {
     "data": {
      "text/plain": [
       "<matplotlib.axes._subplots.AxesSubplot at 0x187b502a128>"
      ]
     },
     "execution_count": 25,
     "metadata": {},
     "output_type": "execute_result"
    },
    {
     "data": {
      "image/png": "[encoded data removed]",
      "text/plain": [
       "<Figure size 432x288 with 1 Axes>"
      ]
     },
     "metadata": {},
     "output_type": "display_data"
    }
   ],
   "source": [
    "properties = ['Flat','Mansions','House','Land','N/A']\n",
    "sales = [1021, 155, 770, 378, 1051]\n",
    "\n",
    "#Result\n",
    "DataSet = list(zip(properties,sales))\n",
    "df_house = pd.DataFrame(data = DataSet, columns=['properties', 'sales'])\n",
    "df_house.plot.bar(x= 'properties', y= 'sales')\n",
    "\n",
    "\n"
   ]
  },
  {
   "cell_type": "markdown",
   "metadata": {},
   "source": [
    "After you have created your DataFrame. You can use:\n",
    "- `.shape` the shape property will give you the dimensions of your DataFrame\n",
    "- `len()` & `.index` give you information on the height of your DataFrame\n",
    "\n",
    "\n"
   ]
  },
  {
   "cell_type": "code",
   "execution_count": null,
   "metadata": {},
   "outputs": [],
   "source": [
    "df.shape"
   ]
  },
  {
   "cell_type": "code",
   "execution_count": null,
   "metadata": {},
   "outputs": [],
   "source": [
    "df.index"
   ]
  },
  {
   "cell_type": "code",
   "execution_count": null,
   "metadata": {},
   "outputs": [],
   "source": [
    "len(df)"
   ]
  },
  {
   "cell_type": "code",
   "execution_count": null,
   "metadata": {},
   "outputs": [],
   "source": [
    "# Column Names\n",
    "list(df.columns)"
   ]
  },
  {
   "cell_type": "markdown",
   "metadata": {},
   "source": [
    "#### DateFrama Operations\n"
   ]
  },
  {
   "cell_type": "markdown",
   "metadata": {},
   "source": [
    "#### Select Values in DataFrame\n",
    "\n",
    "One of the most important part of operating with DataFrames is to be able to extract data from it.\n",
    "\n",
    "In R, you use the [,] notation to access the data frame’s values. in Python Pandas, the most important functions are:\n",
    "\n",
    "- `iloc`: select row based on an index `'0'`\n",
    "- `loc`:  Select Data based on a column name `'Exact Numbers'`\n",
    "\n"
   ]
  },
  {
   "cell_type": "code",
   "execution_count": null,
   "metadata": {},
   "outputs": [],
   "source": [
    "# Select all the element of the first \n",
    "df.iloc[:,0]\n",
    "print(df.iloc[:,0])"
   ]
  },
  {
   "cell_type": "code",
   "execution_count": null,
   "metadata": {},
   "outputs": [],
   "source": [
    "import numpy as np\n",
    "\n",
    "exact_vector = np.arange(16) + np.random.rand()\n",
    "round_vector = np.round(exact_vector)\n",
    "\n",
    "data = np.vstack((exact_vector,round_vector))\n",
    "\n",
    "data = np.transpose(data)\n",
    "\n",
    "df = pd.DataFrame(data)\n",
    "# Ranaming Colums\n",
    "df = df.rename(columns = {0:'Exact Numbers',\n",
    "                          1:'Round Numbers'})\n",
    "\n",
    "df['Error'] = (df['Exact Numbers']- df['Round Numbers'])/df['Round Numbers']\n",
    "\n",
    "df.loc[:,'Exact Numbers']\n",
    "print(df.loc[0:5,'Exact Numbers'])"
   ]
  },
  {
   "cell_type": "markdown",
   "metadata": {},
   "source": [
    "##### Adding a new Column\n",
    "\n",
    "A new column can be added by using `loc` and an operation"
   ]
  },
  {
   "cell_type": "code",
   "execution_count": null,
   "metadata": {},
   "outputs": [],
   "source": [
    "df.loc[:,'Rounding Difference'] = df.iloc[:,0]-df.iloc[:,1]"
   ]
  },
  {
   "cell_type": "code",
   "execution_count": null,
   "metadata": {},
   "outputs": [],
   "source": [
    "df.head(5)"
   ]
  },
  {
   "cell_type": "markdown",
   "metadata": {},
   "source": [
    "##### Boolean Indexing\n",
    "\n",
    "Usefull to filter values of a column based on conditions from another set of columns. \n",
    "\n",
    "For instance, we want to subset a dataframe boolean indexing can help here. \n",
    "\n",
    "You can use the following code:\n"
   ]
  },
  {
   "cell_type": "code",
   "execution_count": null,
   "metadata": {},
   "outputs": [],
   "source": [
    "df.loc[(df['Exact Numbers']>10) & \n",
    "       (df['Round Numbers']>11), \n",
    "       ['Exact Numbers','Round Numbers','Error']]"
   ]
  },
  {
   "cell_type": "markdown",
   "metadata": {},
   "source": [
    "##### Removing a Column or a Row"
   ]
  },
  {
   "cell_type": "code",
   "execution_count": null,
   "metadata": {},
   "outputs": [],
   "source": [
    "# Choosing by Column name\n",
    "\n",
    "df.drop(['Error'], axis =1 )"
   ]
  },
  {
   "cell_type": "code",
   "execution_count": null,
   "metadata": {},
   "outputs": [],
   "source": [
    "# Dropping a row by Index\n",
    "df.drop([0,1,2])"
   ]
  },
  {
   "cell_type": "markdown",
   "metadata": {},
   "source": [
    "##### DataFrame - `Where`  and nesting DataFrame Methods\n",
    "\n",
    "The `where` in pandas has the same use as for Numpy. This conditional search tool is very powerfull if assiciated with other nestable Methods\n",
    "\n",
    "the example below shows the combined use of \n",
    " - `where`\n",
    " - `.dropna()`\n",
    " - `.loc`\n",
    "\n",
    "\n",
    "\n"
   ]
  },
  {
   "cell_type": "code",
   "execution_count": 2,
   "metadata": {},
   "outputs": [
    {
     "ename": "NameError",
     "evalue": "name 'df' is not defined",
     "output_type": "error",
     "traceback": [
      "\u001b[1;31m---------------------------------------------------------------------------\u001b[0m",
      "\u001b[1;31mNameError\u001b[0m                                 Traceback (most recent call last)",
      "\u001b[1;32m<ipython-input-2-76c7713df608>\u001b[0m in \u001b[0;36m<module>\u001b[1;34m()\u001b[0m\n\u001b[0;32m      1\u001b[0m \u001b[1;31m# This will select rows based on the condition \"<5\" on Round Numbers\u001b[0m\u001b[1;33m\u001b[0m\u001b[1;33m\u001b[0m\u001b[0m\n\u001b[1;32m----> 2\u001b[1;33m \u001b[0mdf\u001b[0m\u001b[1;33m.\u001b[0m\u001b[0mwhere\u001b[0m\u001b[1;33m(\u001b[0m\u001b[0mdf\u001b[0m\u001b[1;33m[\u001b[0m\u001b[1;34m'Error'\u001b[0m\u001b[1;33m]\u001b[0m\u001b[1;33m>\u001b[0m \u001b[1;33m-\u001b[0m\u001b[1;36m0.01\u001b[0m\u001b[1;33m)\u001b[0m\u001b[1;33m\u001b[0m\u001b[0m\n\u001b[0m",
      "\u001b[1;31mNameError\u001b[0m: name 'df' is not defined"
     ]
    }
   ],
   "source": [
    "# This will select rows based on the condition \"<5\" on Round Numbers\n",
    "df.where(df['Error']> -0.01)"
   ]
  },
  {
   "cell_type": "code",
   "execution_count": null,
   "metadata": {},
   "outputs": [],
   "source": [
    "# There are NaN we would want to eliminate\n",
    "df.where(df['Round Numbers']<5).dropna()"
   ]
  },
  {
   "cell_type": "code",
   "execution_count": null,
   "metadata": {},
   "outputs": [],
   "source": [
    "# Now that also the NaN have been removed let's secelct only the Column we are interested in\n",
    "df.where(df['Round Numbers']<5).dropna().loc[:,'Round Numbers']"
   ]
  },
  {
   "cell_type": "markdown",
   "metadata": {},
   "source": [
    "## <span style=\"color:blue\"> **Exercise** </span>\n",
    "\n",
    "1. Create a new DataFrame with only data With Error > -0.01\n"
   ]
  },
  {
   "cell_type": "code",
   "execution_count": 35,
   "metadata": {},
   "outputs": [
    {
     "data": {
      "text/html": [
       "<div>\n",
       "<style scoped>\n",
       "    .dataframe tbody tr th:only-of-type {\n",
       "        vertical-align: middle;\n",
       "    }\n",
       "\n",
       "    .dataframe tbody tr th {\n",
       "        vertical-align: top;\n",
       "    }\n",
       "\n",
       "    .dataframe thead th {\n",
       "        text-align: right;\n",
       "    }\n",
       "</style>\n",
       "<table border=\"1\" class=\"dataframe\">\n",
       "  <thead>\n",
       "    <tr style=\"text-align: right;\">\n",
       "      <th></th>\n",
       "      <th>Exact Numbers</th>\n",
       "      <th>Round Numbers</th>\n",
       "      <th>Error</th>\n",
       "      <th>Rounding Difference</th>\n",
       "    </tr>\n",
       "  </thead>\n",
       "  <tbody>\n",
       "    <tr>\n",
       "      <th>4</th>\n",
       "      <td>4.959848</td>\n",
       "      <td>5.0</td>\n",
       "      <td>-0.008030</td>\n",
       "      <td>-0.040152</td>\n",
       "    </tr>\n",
       "    <tr>\n",
       "      <th>5</th>\n",
       "      <td>5.959848</td>\n",
       "      <td>6.0</td>\n",
       "      <td>-0.006692</td>\n",
       "      <td>-0.040152</td>\n",
       "    </tr>\n",
       "    <tr>\n",
       "      <th>6</th>\n",
       "      <td>6.959848</td>\n",
       "      <td>7.0</td>\n",
       "      <td>-0.005736</td>\n",
       "      <td>-0.040152</td>\n",
       "    </tr>\n",
       "    <tr>\n",
       "      <th>7</th>\n",
       "      <td>7.959848</td>\n",
       "      <td>8.0</td>\n",
       "      <td>-0.005019</td>\n",
       "      <td>-0.040152</td>\n",
       "    </tr>\n",
       "    <tr>\n",
       "      <th>8</th>\n",
       "      <td>8.959848</td>\n",
       "      <td>9.0</td>\n",
       "      <td>-0.004461</td>\n",
       "      <td>-0.040152</td>\n",
       "    </tr>\n",
       "    <tr>\n",
       "      <th>9</th>\n",
       "      <td>9.959848</td>\n",
       "      <td>10.0</td>\n",
       "      <td>-0.004015</td>\n",
       "      <td>-0.040152</td>\n",
       "    </tr>\n",
       "    <tr>\n",
       "      <th>10</th>\n",
       "      <td>10.959848</td>\n",
       "      <td>11.0</td>\n",
       "      <td>-0.003650</td>\n",
       "      <td>-0.040152</td>\n",
       "    </tr>\n",
       "    <tr>\n",
       "      <th>11</th>\n",
       "      <td>11.959848</td>\n",
       "      <td>12.0</td>\n",
       "      <td>-0.003346</td>\n",
       "      <td>-0.040152</td>\n",
       "    </tr>\n",
       "    <tr>\n",
       "      <th>12</th>\n",
       "      <td>12.959848</td>\n",
       "      <td>13.0</td>\n",
       "      <td>-0.003089</td>\n",
       "      <td>-0.040152</td>\n",
       "    </tr>\n",
       "    <tr>\n",
       "      <th>13</th>\n",
       "      <td>13.959848</td>\n",
       "      <td>14.0</td>\n",
       "      <td>-0.002868</td>\n",
       "      <td>-0.040152</td>\n",
       "    </tr>\n",
       "    <tr>\n",
       "      <th>14</th>\n",
       "      <td>14.959848</td>\n",
       "      <td>15.0</td>\n",
       "      <td>-0.002677</td>\n",
       "      <td>-0.040152</td>\n",
       "    </tr>\n",
       "    <tr>\n",
       "      <th>15</th>\n",
       "      <td>15.959848</td>\n",
       "      <td>16.0</td>\n",
       "      <td>-0.002510</td>\n",
       "      <td>-0.040152</td>\n",
       "    </tr>\n",
       "  </tbody>\n",
       "</table>\n",
       "</div>"
      ],
      "text/plain": [
       "    Exact Numbers  Round Numbers     Error  Rounding Difference\n",
       "4        4.959848            5.0 -0.008030            -0.040152\n",
       "5        5.959848            6.0 -0.006692            -0.040152\n",
       "6        6.959848            7.0 -0.005736            -0.040152\n",
       "7        7.959848            8.0 -0.005019            -0.040152\n",
       "8        8.959848            9.0 -0.004461            -0.040152\n",
       "9        9.959848           10.0 -0.004015            -0.040152\n",
       "10      10.959848           11.0 -0.003650            -0.040152\n",
       "11      11.959848           12.0 -0.003346            -0.040152\n",
       "12      12.959848           13.0 -0.003089            -0.040152\n",
       "13      13.959848           14.0 -0.002868            -0.040152\n",
       "14      14.959848           15.0 -0.002677            -0.040152\n",
       "15      15.959848           16.0 -0.002510            -0.040152"
      ]
     },
     "execution_count": 35,
     "metadata": {},
     "output_type": "execute_result"
    }
   ],
   "source": [
    "df.where(df['Error']>-0.01)"
   ]
  },
  {
   "cell_type": "markdown",
   "metadata": {},
   "source": [
    "#### How to iterate over Pandas DataFrame\n",
    "\n",
    "Given the large number of Functions and \".methods\" that exist for dataFrames in pandas, there are very few instances where one will need to iterate. \n",
    "\n",
    "This section gives an example on how to set this up by using:\n",
    "\n",
    " - `iterrows()`\n",
    " \n"
   ]
  },
  {
   "cell_type": "code",
   "execution_count": null,
   "metadata": {},
   "outputs": [],
   "source": [
    "for index, row in df.iterrows() :\n",
    "    print(row['Round Numbers'], row['Exact Numbers'])"
   ]
  },
  {
   "cell_type": "markdown",
   "metadata": {},
   "source": [
    "### Read and Write DataFrames to Files\n",
    "\n",
    "Pandas dataframes are designed to ease the access to files and external data bases like excel files  / csv file. \n",
    "\n",
    "Pandas is equipped with functions to write to files like:\n",
    "\n",
    " - `to_csv()`\n",
    " - `.XlsxWriter()` & `to_excel()`\n",
    "\n",
    "and Read from Files:\n",
    "- `read_csv()`\n",
    "- `read_excel()`\n",
    "- `read_table()`\n",
    "\n",
    "Additionally, any form of inport with that take data and bring it into a `list` can be transformed easily into a dataframe. \n",
    "\n"
   ]
  },
  {
   "cell_type": "markdown",
   "metadata": {},
   "source": [
    "#### Read\n",
    "\n",
    "Files can be read directly into a DataFrame which is the most convenient form of handling data."
   ]
  },
  {
   "cell_type": "code",
   "execution_count": null,
   "metadata": {},
   "outputs": [],
   "source": [
    "#folder_directory and file paths can be combined as seen in the previous sections\n",
    "\n",
    "#folder_directory = r'C:\\Users\\meert.j\\OneDrive - Procter and Gamble\\PnG\\trainings\\python training1819\\python-training-master\\\\python-training-master\\Basic\\\\'\n",
    "folder_directory = 'C:/Users/gabriele.a/Documents/Git Repository/PG_Python_Training/Current Training/NoteBooks/'\n",
    "\n",
    "file_name = 'noisy-timeserie-data.csv'\n",
    "\n",
    "file_path = folder_directory+file_name\n",
    "\n",
    "df = pd.read_csv(file_path, header=0, sep=',')\n",
    "\n",
    "df.iloc[0:5,0:3]"
   ]
  },
  {
   "cell_type": "code",
   "execution_count": null,
   "metadata": {},
   "outputs": [],
   "source": [
    "#folder_directory and file paths can be combined as seen in the previous sections\n",
    "#folder_directory = 'C:/Users/gabriele.a/Documents/Git Repository/PG_Python_Training/Current Training/NoteBooks/'\n",
    "\n",
    "file_name = 'noisy-timeserie-data.xlsx'\n",
    "\n",
    "file_path = folder_directory+file_name\n",
    "\n",
    "# the Excel_Read is able to start reading from  specific row and Skim through the sheets\n",
    "df = pd.read_excel(file_path, sheet_name='Sheet1',header=0, skiprows=None, convert_float=False)\n",
    "\n",
    "df.iloc[0:5,0:3]"
   ]
  },
  {
   "cell_type": "markdown",
   "metadata": {},
   "source": [
    "### Write\n",
    "\n",
    "Data back to a file is similar to reading. with the expection of writing to excel which can be more tricky.\n",
    "\n",
    "The simple case is writing `to_csv` files:"
   ]
  },
  {
   "cell_type": "code",
   "execution_count": null,
   "metadata": {},
   "outputs": [],
   "source": [
    "#folder_directory = 'C:/Users/gabriele.a/Documents/Git Repository/PG_Python_Training/Current Training/NoteBooks/'\n",
    "file_name = 'noisy-timeserie-data_and_tan.csv'\n",
    "file_path = folder_directory+file_name\n",
    "\n",
    "df.loc[:,'Noisy Tangent'] = df.loc[:,'Noisy Sine'] / df.loc[:,'Noisy Cosine']\n",
    "\n",
    "df.to_csv(path_or_buf=file_path, \n",
    "          sep=',', \n",
    "          header = True, # This keeps the header in the csv file\n",
    "          index= False)  # Index False removes the row numbers present in the Datatable\n",
    "\n",
    "# for the full list of options in to_csv consult the help()"
   ]
  },
  {
   "cell_type": "markdown",
   "metadata": {},
   "source": [
    "Although csv files are readily open by Excel for certain applications it might be usefull to save directly to an excel file\n",
    "\n",
    "Saving to an excel file is slightly more complex, since you need first an Excel Writer Engine\n",
    "\n",
    "Pandas writes Excel files using the Xlwt module for xls files and the Openpyxl or XlsxWriter modules for xlsx files.\n"
   ]
  },
  {
   "cell_type": "code",
   "execution_count": null,
   "metadata": {},
   "outputs": [],
   "source": [
    "#folder_directory = 'C:/Users/gabriele.a/Documents/Git Repository/PG_Python_Training/Current Training/NoteBooks/'\n",
    "file_name = 'noisy-timeserie-data_and_tan.xlsx'\n",
    "file_path = folder_directory+file_name\n",
    "\n",
    "\n",
    "df.loc[:,'Noisy Tangent'] = df.loc[:,'Noisy Sine'] / df.loc[:,'Noisy Cosine']\n",
    "\n",
    "#print(df.iloc[:,0:5])\n",
    "\n",
    "# Create a Pandas Excel writer using XlsxWriter as the engine.\n",
    "writer = pd.ExcelWriter(file_path, engine='xlsxwriter')\n",
    "\n",
    "# Convert the dataframe to an XlsxWriter Excel object.\n",
    "df.to_excel(writer, \n",
    "            sheet_name='my_first_sheet',\n",
    "            index = False)\n",
    "\n",
    "# Close the Pandas Excel writer and output the Excel file.\n",
    "writer.save()\n"
   ]
  },
  {
   "cell_type": "code",
   "execution_count": null,
   "metadata": {},
   "outputs": [],
   "source": []
  }
 ],
 "metadata": {
  "kernelspec": {
   "display_name": "Python 3",
   "language": "python",
   "name": "python3"
  },
  "language_info": {
   "codemirror_mode": {
    "name": "ipython",
    "version": 3
   },
   "file_extension": ".py",
   "mimetype": "text/x-python",
   "name": "python",
   "nbconvert_exporter": "python",
   "pygments_lexer": "ipython3",
   "version": "3.5.5"
  }
 },
 "nbformat": 4,
 "nbformat_minor": 1
}
