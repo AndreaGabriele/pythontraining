{
 "cells": [
  {
   "cell_type": "markdown",
   "metadata": {
    "collapsed": true
   },
   "source": [
    "# Python - Pandas\n",
    "Andrea Gabriele - Procter & Gamble - 2018 - gabriele.a@pg.com"
   ]
  },
  {
   "cell_type": "markdown",
   "metadata": {},
   "source": [
    "Python has long been great for data munging and preparation, but less so for data analysis and modeling. \n",
    "\n",
    "Pandas helps fill this gap, enabling data analysis workflow in Python without having to switch to a more domain specific language like R.\n",
    "\n",
    "* Pandas introduces the concept of DataFrame for manipulating data with indexing\n",
    "* Reading / Writing data between in-memory and different formats (CSV / Excel, SQL databases)\n",
    "* Handling of missing data: easily manipulate messy data into an orderly form\n",
    "* Flexible reshaping and pivoting of data sets\n",
    "* Label-based slicing, subsetting of large data sets\n",
    "* Columns can be inserted and deleted from data structures for size mutability\n",
    "* Merging and joining of data sets\n",
    "* Handle Time series: \n",
    "    * Date range generation and frequency conversion, \n",
    "    * Moving window statistics\n",
    "    * Moving window linear regressions\n",
    "    * Date shifting and lagging\n",
    "\n",
    "\n"
   ]
  },
  {
   "cell_type": "markdown",
   "metadata": {},
   "source": [
    "## Dictionary\n",
    "\n",
    "#### _*Dictionaries in Python are lists of Key:Value pairs.*_\n",
    "\n",
    "This is a very powerful datatype to hold a lot of related information that can be associated through keys. The main operation of a dictionary is to extract a value based on the key name. \n",
    "\n",
    "Unlike lists, where index numbers are used, dictionaries allow the use of a key to access its members. Dictionaries can also be used to sort, iterate and compare data.\n",
    "\n",
    "Dictionaries are created by using braces `{` `}` with pairs separated by a comma `,` and the key values associated with a column `:`. \n",
    "\n",
    "In Dictionaries the Key must be unique. Here is a quick example on how dictionaries might be used:"
   ]
  },
  {
   "cell_type": "code",
   "execution_count": null,
   "metadata": {},
   "outputs": [],
   "source": [
    "d = {\n",
    "    <key>: <value>,\n",
    "    <key>: <value>,\n",
    "      .\n",
    "      .\n",
    "      .\n",
    "    <key>: <value>\n",
    "}"
   ]
  },
  {
   "cell_type": "code",
   "execution_count": null,
   "metadata": {},
   "outputs": [],
   "source": [
    "room_num = {'john': 425, \n",
    "            'tom': 212,\n",
    "            'jim': 112}"
   ]
  },
  {
   "cell_type": "markdown",
   "metadata": {},
   "source": [
    "### Accessing Dictionary Values\n",
    "Dictionary elements must be accessible somehow. If you don’t get them by index, then how do you get them?\n",
    "A value is retrieved from a dictionary by specifying its corresponding key in square brackets ([]):"
   ]
  },
  {
   "cell_type": "code",
   "execution_count": null,
   "metadata": {},
   "outputs": [],
   "source": [
    "room_num['john'] = 645  # set the value associated with the 'john' key to 645\n",
    "print (room_num['jim']) # print the value of the 'tom' key."
   ]
  },
  {
   "cell_type": "markdown",
   "metadata": {},
   "source": [
    "Adding an entry to an existing dictionary is simply a matter of assigning a new key and value:"
   ]
  },
  {
   "cell_type": "code",
   "execution_count": null,
   "metadata": {},
   "outputs": [],
   "source": [
    "room_num['isaac'] = 345 # Add a new key 'isaac' with the associated value\n",
    "print (room_num.values()) # print out a list of keys in the dictionary"
   ]
  },
  {
   "cell_type": "markdown",
   "metadata": {},
   "source": [
    "If you want to update an entry, you can just assign a new value to an existing key:"
   ]
  },
  {
   "cell_type": "code",
   "execution_count": null,
   "metadata": {},
   "outputs": [],
   "source": [
    "print (room_num['john']) # John Current Room \n",
    "\n",
    "room_num['john'] = 1233  # set the value associated with the 'john' key to 645\n",
    "print (room_num['john'])\n",
    "\n"
   ]
  },
  {
   "cell_type": "markdown",
   "metadata": {},
   "source": [
    "#### Dictionary Methods\n",
    "Here are some other common dictionaries methods.\n",
    "\n",
    "* clear()\n",
    "    * Removes all the elements from the dictionary\n",
    "    \n",
    "* copy()\n",
    "    * Returns a copy of the dictionary\n",
    "    \n",
    "* fromkeys()\n",
    "    * Returns a dictionary with the specified keys and values\n",
    "    \n",
    "* get()\n",
    "    * Returns the value of the specified key\n",
    "    \n",
    "* items()\n",
    "    * Returns a list containing the a tuple for each key value pair\n",
    "    \n",
    "* keys()\n",
    "    * Returns a list contianing the dictionary's keys\n",
    "    \n",
    "* pop() \n",
    "    * Removes the element with the specified key\n",
    "    \n",
    "* popitem()\n",
    "    * Removes the last inserted key-value pair\n",
    "\n",
    "* setdefault()\n",
    "    * Returns the value of the specified key. If the key does not exist: insert the key, with the specified value\n",
    "\n",
    "* update()\n",
    "    * Updates the dictionary with the specified key-value pairs\n",
    "\n",
    "* values()\n",
    "    * Returns a list of all the values in the dictionary\n",
    "\n"
   ]
  },
  {
   "cell_type": "markdown",
   "metadata": {
    "collapsed": true
   },
   "source": [
    "## <span style=\"color:blue\"> **Exercise** </span>\n",
    "\n",
    "1. Create your own Dictionary where the values are Lists"
   ]
  },
  {
   "cell_type": "code",
   "execution_count": null,
   "metadata": {},
   "outputs": [],
   "source": [
    "#Result\n",
    "thisdict ={\n",
    "    _____ : _____\n",
    "  \"model\" : ___\n",
    "  _____  : ____\n",
    "}\n",
    "print(thisdict)"
   ]
  },
  {
   "cell_type": "code",
   "execution_count": null,
   "metadata": {},
   "outputs": [],
   "source": [
    "thisdict[\"model\"]"
   ]
  },
  {
   "cell_type": "markdown",
   "metadata": {},
   "source": [
    "Dictionaries can be very complex and Versatile. The Values can be a variety of data types and length "
   ]
  },
  {
   "cell_type": "code",
   "execution_count": null,
   "metadata": {},
   "outputs": [],
   "source": [
    "person = {}\n",
    "type(person)\n"
   ]
  },
  {
   "cell_type": "code",
   "execution_count": null,
   "metadata": {},
   "outputs": [],
   "source": [
    "person['fname'] = 'Joe'\n",
    "person['lname'] = 'Fonebone'\n",
    "person['age'] = 51\n",
    "person['spouse'] = 'Edna'\n",
    "person['children'] = ['Ralph', 'Betty', 'Joey']\n",
    "person['pets'] = {'dog': 'Fido', 'cat': 'Sox'}"
   ]
  },
  {
   "cell_type": "markdown",
   "metadata": {},
   "source": [
    "`.itmes()`\n",
    "Returns a list of key-value pairs in a dictionary.\n",
    "`person.items()`\n",
    "\n"
   ]
  },
  {
   "cell_type": "code",
   "execution_count": null,
   "metadata": {},
   "outputs": [],
   "source": [
    "person.items()"
   ]
  },
  {
   "cell_type": "markdown",
   "metadata": {},
   "source": [
    "### Pandas\n",
    "Import Pandas Module"
   ]
  },
  {
   "cell_type": "code",
   "execution_count": null,
   "metadata": {},
   "outputs": [],
   "source": [
    "import pandas as pd \n"
   ]
  },
  {
   "cell_type": "markdown",
   "metadata": {},
   "source": [
    "### DataFrames\n",
    "A Data frame is a two-dimensional data structure, i.e., data is aligned in a tabular fashion in rows and columns.\n",
    "\n",
    "#### Features of DataFrame\n",
    "- Potentially columns are of different types\n",
    "- Size – Mutable\n",
    "- Labeled axes (rows and columns)\n",
    "- Can Perform Arithmetic operations on rows and columns"
   ]
  },
  {
   "cell_type": "code",
   "execution_count": null,
   "metadata": {},
   "outputs": [],
   "source": [
    "help(pd.DataFrame)"
   ]
  },
  {
   "cell_type": "markdown",
   "metadata": {},
   "source": [
    "A pandas DataFrame can be created using various inputs like:\n",
    "\n",
    "- Lists\n",
    "- **Dictionaries**\n",
    "- Series\n",
    "- Numpy ndarrays\n",
    "- Another DataFrames\n",
    "\n",
    "Another way of creating a DataFrame:"
   ]
  },
  {
   "cell_type": "markdown",
   "metadata": {},
   "source": [
    "### Data Frames from Lists"
   ]
  },
  {
   "cell_type": "code",
   "execution_count": null,
   "metadata": {},
   "outputs": [],
   "source": [
    "# The inital set of baby names and bith rates\n",
    "names = ['Bob','Jessica','Mary','John','Mel']\n",
    "births = [968, 155, 77, 578, 973]\n",
    "\n",
    "# to merge two lists by the second dimetion you can use zip\n",
    "BabyDataSet = list(zip(names,births))\n",
    "\n",
    "df = pd.DataFrame(data = BabyDataSet, columns=['Names', 'Births'])"
   ]
  },
  {
   "cell_type": "code",
   "execution_count": null,
   "metadata": {},
   "outputs": [],
   "source": [
    "print(df)"
   ]
  },
  {
   "cell_type": "markdown",
   "metadata": {},
   "source": [
    "### Dataframes from Dictionaries"
   ]
  },
  {
   "cell_type": "code",
   "execution_count": null,
   "metadata": {},
   "outputs": [],
   "source": [
    "names = ['Bob','Jessica','Mary','John','Mel']\n",
    "births = [968, 155, 77, 578, 973]\n",
    "\n",
    "df = pd.DataFrame({'names':names,'births':births})\n",
    "df"
   ]
  },
  {
   "cell_type": "markdown",
   "metadata": {},
   "source": [
    "### DataFrames from Numpy Arrays"
   ]
  },
  {
   "cell_type": "code",
   "execution_count": null,
   "metadata": {},
   "outputs": [],
   "source": [
    "import numpy as np\n",
    "\n",
    "exact_vector = np.arange(16) + np.random.rand()\n",
    "round_vector = np.round(exact_vector)\n",
    "\n",
    "data = np.vstack((exact_vector,round_vector))\n",
    "\n",
    "data = np.transpose(data)\n",
    "\n",
    "df = pd.DataFrame(data)\n",
    "\n",
    "df = df.rename(columns={0:'Exact Numbers', \n",
    "                        1:'Round Numbers'})\n",
    "\n",
    "print(df)"
   ]
  },
  {
   "cell_type": "markdown",
   "metadata": {},
   "source": [
    "## <span style=\"color:blue\"> **Exercise** </span>\n",
    "\n",
    "1. Create Pandas DataFrame Starting from `exact_vector` and `round_vector` but with a Dictionary"
   ]
  },
  {
   "cell_type": "code",
   "execution_count": null,
   "metadata": {},
   "outputs": [],
   "source": [
    "# Ranaming Colums\n",
    "exact_vector = np.arange(16) + np.random.rand()\n",
    "round_vector = np.round(_____)\n",
    "\n",
    "df = pd.DataFrame({'Exact Numbers':____,\n",
    "                    'Round Numbers':____})\n",
    "\n",
    "\n",
    "\n",
    "df.head(5)\n",
    "\n"
   ]
  },
  {
   "cell_type": "markdown",
   "metadata": {},
   "source": [
    "### Pandas Plotting \n",
    "Pandas has the possibility to allow for plotting Graphs with the same functionality of matplotlib"
   ]
  },
  {
   "cell_type": "code",
   "execution_count": null,
   "metadata": {},
   "outputs": [],
   "source": [
    "%matplotlib inline\n",
    "\n",
    "df.plot.scatter(x ='Exact Numbers', y= 'Round Numbers', title = 'Plot Rounding')\n"
   ]
  },
  {
   "cell_type": "markdown",
   "metadata": {},
   "source": [
    "## <span style=\"color:blue\"> **Exercise** </span>\n",
    "\n",
    "1. Create a DataFrame and visualize in a graph the two arrays below, using what you have learned untill now\n",
    "\n",
    "(categporical x-axis data can be plotted with the kind='bar' argument)\n",
    "\n"
   ]
  },
  {
   "cell_type": "code",
   "execution_count": null,
   "metadata": {},
   "outputs": [],
   "source": [
    "\n",
    "properties = ['Flat','Mansions','House','Land','N/A']\n",
    "sales = [1021, 155, 770, 378, 1051]\n",
    "\n",
    "#Result\n",
    "\n",
    "df_house = pd.DataFrame({____:____, \n",
    "                        _____:____})\n",
    "\n",
    "df_house.plot.bar(x= 'properties', y= 'sales')\n",
    "\n",
    "\n"
   ]
  },
  {
   "cell_type": "markdown",
   "metadata": {},
   "source": [
    "After you have created your DataFrame. You can use:\n",
    "- `.shape` the shape property will give you the dimensions of your DataFrame\n",
    "- `len()` & `.index` give you information on the height of your DataFrame\n",
    "\n",
    "\n"
   ]
  },
  {
   "cell_type": "code",
   "execution_count": null,
   "metadata": {},
   "outputs": [],
   "source": [
    "df.shape"
   ]
  },
  {
   "cell_type": "code",
   "execution_count": null,
   "metadata": {},
   "outputs": [],
   "source": [
    "df.index"
   ]
  },
  {
   "cell_type": "code",
   "execution_count": null,
   "metadata": {},
   "outputs": [],
   "source": [
    "len(df)"
   ]
  },
  {
   "cell_type": "code",
   "execution_count": null,
   "metadata": {},
   "outputs": [],
   "source": [
    "# Column Names\n",
    "list(df.columns)"
   ]
  },
  {
   "cell_type": "markdown",
   "metadata": {},
   "source": [
    "## DateFrame Operations\n"
   ]
  },
  {
   "cell_type": "markdown",
   "metadata": {},
   "source": [
    "#### Select Values in DataFrame\n",
    "\n",
    "One of the most important part of operating with DataFrames is to be able to extract data from it.\n",
    "\n",
    "In R, you use the [,] notation to access the data frame’s values. in Python Pandas, the most important functions are:\n",
    "\n",
    "- `iloc`: select row based on an index `'0'`\n",
    "- `loc`:  Select Data based on a column name `'Exact Numbers'`\n",
    "\n"
   ]
  },
  {
   "cell_type": "code",
   "execution_count": null,
   "metadata": {},
   "outputs": [],
   "source": [
    "# Select all the element of the first \n",
    "df.iloc[:,0]\n",
    "print(df.iloc[:,0])"
   ]
  },
  {
   "cell_type": "code",
   "execution_count": null,
   "metadata": {},
   "outputs": [],
   "source": [
    "import numpy as np\n",
    "\n",
    "exact_vector = np.arange(16) + np.random.rand()\n",
    "round_vector = np.round(exact_vector)\n",
    "\n",
    "data = np.vstack((exact_vector,round_vector))\n",
    "\n",
    "data = np.transpose(data)\n",
    "\n",
    "df = pd.DataFrame(data)\n",
    "# Ranaming Colums\n",
    "df = df.rename(columns = {0:'Exact Numbers',\n",
    "                          1:'Round Numbers'})\n",
    "\n"
   ]
  },
  {
   "cell_type": "markdown",
   "metadata": {},
   "source": [
    "Since Every column in Pandas is effectively a numpy array. Operations are Element Wise. \n",
    "\n",
    "Below we are creating a new column called `Error`"
   ]
  },
  {
   "cell_type": "code",
   "execution_count": null,
   "metadata": {},
   "outputs": [],
   "source": [
    "\n",
    "df['Error'] = (df['Exact Numbers']- df['Round Numbers'])/df['Round Numbers']\n"
   ]
  },
  {
   "cell_type": "markdown",
   "metadata": {},
   "source": [
    "## <span style=\"color:blue\"> **Exercise** </span>\n",
    "\n",
    "Generate a Scatter plot the error versus the Round numbers "
   ]
  },
  {
   "cell_type": "code",
   "execution_count": null,
   "metadata": {},
   "outputs": [],
   "source": [
    "\n",
    "df.plot.scatter(___, ____ , title = 'Plot Rounding')\n"
   ]
  },
  {
   "cell_type": "markdown",
   "metadata": {},
   "source": [
    "With .loc method is possible to Slice the DataFrames Selecting part of the data or only one point"
   ]
  },
  {
   "cell_type": "code",
   "execution_count": null,
   "metadata": {},
   "outputs": [],
   "source": [
    "df.loc[:,'Exact Numbers']\n",
    "print(df.loc[0:5,'Exact Numbers'])"
   ]
  },
  {
   "cell_type": "markdown",
   "metadata": {},
   "source": [
    "##### Adding a new Column\n",
    "\n",
    "A new column can be added by using `loc` and an operation"
   ]
  },
  {
   "cell_type": "code",
   "execution_count": null,
   "metadata": {},
   "outputs": [],
   "source": [
    "df.loc[:,'Rounding Difference'] = df.iloc[:,0]-df.iloc[:,1]"
   ]
  },
  {
   "cell_type": "code",
   "execution_count": null,
   "metadata": {},
   "outputs": [],
   "source": [
    "df.head(5)"
   ]
  },
  {
   "cell_type": "markdown",
   "metadata": {},
   "source": [
    "##### Boolean Indexing\n",
    "\n",
    "Usefull to filter values of a column based on conditions from another set of columns. \n",
    "\n",
    "For instance, we want to subset a dataframe boolean indexing can help here. \n",
    "\n",
    "You can use the following code:\n"
   ]
  },
  {
   "cell_type": "code",
   "execution_count": null,
   "metadata": {},
   "outputs": [],
   "source": [
    "df.loc[(df['Exact Numbers']>10) & \n",
    "       (df['Round Numbers']>11), \n",
    "       ['Exact Numbers','Round Numbers','Error']]"
   ]
  },
  {
   "cell_type": "markdown",
   "metadata": {},
   "source": [
    "##### Removing a Column or a Row"
   ]
  },
  {
   "cell_type": "code",
   "execution_count": null,
   "metadata": {},
   "outputs": [],
   "source": [
    "# Choosing by Column name\n",
    "\n",
    "df.drop(['Error'], axis =1 )"
   ]
  },
  {
   "cell_type": "code",
   "execution_count": null,
   "metadata": {},
   "outputs": [],
   "source": [
    "# Dropping a row by Index\n",
    "df.drop([0,1,2])"
   ]
  },
  {
   "cell_type": "markdown",
   "metadata": {},
   "source": [
    "##### DataFrame - `Where`  and nesting DataFrame Methods\n",
    "\n",
    "The `where` in pandas has the same use as for Numpy. This conditional search tool is very powerfull if assiciated with other nestable Methods\n",
    "\n",
    "the example below shows the combined use of \n",
    " - `where`\n",
    " - `.dropna()`\n",
    " - `.loc`\n",
    "\n",
    "\n",
    "\n"
   ]
  },
  {
   "cell_type": "code",
   "execution_count": null,
   "metadata": {},
   "outputs": [],
   "source": [
    "# This will select rows based on the condition \"<5\" on Round Numbers\n",
    "df.where(df['Error']> -0.01)"
   ]
  },
  {
   "cell_type": "code",
   "execution_count": null,
   "metadata": {},
   "outputs": [],
   "source": [
    "# There are NaN we would want to eliminate\n",
    "df.where(df['Round Numbers']<5).dropna()"
   ]
  },
  {
   "cell_type": "code",
   "execution_count": null,
   "metadata": {},
   "outputs": [],
   "source": [
    "# Now that also the NaN have been removed let's secelct only the Column we are interested in\n",
    "df.where(df['Round Numbers']<5).dropna().loc[:,'Round Numbers']"
   ]
  },
  {
   "cell_type": "markdown",
   "metadata": {},
   "source": [
    "## <span style=\"color:blue\"> **Exercise** </span>\n",
    "\n",
    "1. Create a new DataFrame with only data With Error > -0.01\n"
   ]
  },
  {
   "cell_type": "code",
   "execution_count": null,
   "metadata": {},
   "outputs": [],
   "source": [
    "df.where(df['Error']>0.01)"
   ]
  },
  {
   "cell_type": "markdown",
   "metadata": {},
   "source": [
    "#### How to iterate over Pandas DataFrame\n",
    "\n",
    "Given the large number of Functions and \".methods\" that exist for dataFrames in pandas, there are very few instances where one will need to iterate. \n",
    "\n",
    "This section gives an example on how to set this up by using:\n",
    "\n",
    " - `iterrows()`\n",
    " \n"
   ]
  },
  {
   "cell_type": "markdown",
   "metadata": {},
   "source": [
    "### Read and Write DataFrames to Files\n",
    "\n",
    "Pandas dataframes are designed to ease the access to files and external data bases like excel files  / csv file. \n",
    "\n",
    "Pandas is equipped with functions to write to files like:\n",
    "\n",
    " - `to_csv()`\n",
    " - `.XlsxWriter()` & `to_excel()`\n",
    "\n",
    "and Read from Files:\n",
    "- `read_csv()`\n",
    "- `read_excel()`\n",
    "- `read_table()`\n",
    "\n",
    "Additionally, any form of inport with that take data and bring it into a `list` can be transformed easily into a dataframe. \n",
    "\n"
   ]
  },
  {
   "cell_type": "markdown",
   "metadata": {},
   "source": [
    "#### Read\n",
    "\n",
    "Files can be read directly into a DataFrame which is the most convenient form of handling data."
   ]
  },
  {
   "cell_type": "code",
   "execution_count": null,
   "metadata": {},
   "outputs": [],
   "source": [
    "#folder_directory and file paths can be combined as seen in the previous sections\n",
    "\n",
    "#folder_directory = r'C:\\Users\\meert.j\\OneDrive - Procter and Gamble\\PnG\\trainings\\python training1819\\python-training-master\\\\python-training-master\\Basic\\\\'\n",
    "folder_directory = 'C:/Users/gabriele.a/Documents/Git Repository/PG_Python_Training/Current Training/NoteBooks/'\n",
    "\n",
    "file_name = 'noisy-timeserie-data.csv'\n",
    "\n",
    "file_path = folder_directory+file_name\n",
    "\n",
    "df = pd.read_csv(file_path, header=0, sep=',')\n",
    "\n",
    "df.iloc[0:5,0:3]"
   ]
  },
  {
   "cell_type": "code",
   "execution_count": null,
   "metadata": {},
   "outputs": [],
   "source": [
    "#folder_directory and file paths can be combined as seen in the previous sections\n",
    "#folder_directory = 'C:/Users/gabriele.a/Documents/Git Repository/PG_Python_Training/Current Training/NoteBooks/'\n",
    "\n",
    "file_name = 'noisy-timeserie-data.xlsx'\n",
    "\n",
    "file_path = folder_directory+file_name\n",
    "\n",
    "# the Excel_Read is able to start reading from  specific row and Skim through the sheets\n",
    "df = pd.read_excel(file_path, sheet_name='Sheet1',header=0, skiprows=None, convert_float=False)\n",
    "\n",
    "df.iloc[0:5,0:3]"
   ]
  },
  {
   "cell_type": "markdown",
   "metadata": {},
   "source": [
    "### Write\n",
    "\n",
    "Data back to a file is similar to reading. with the expection of writing to excel which can be more tricky.\n",
    "\n",
    "The simple case is writing `to_csv` files:"
   ]
  },
  {
   "cell_type": "code",
   "execution_count": null,
   "metadata": {},
   "outputs": [],
   "source": [
    "#folder_directory = 'C:/Users/gabriele.a/Documents/Git Repository/PG_Python_Training/Current Training/NoteBooks/'\n",
    "file_name = 'noisy-timeserie-data_and_tan.csv'\n",
    "file_path = folder_directory+file_name\n",
    "\n",
    "df.loc[:,'Noisy Tangent'] = df.loc[:,'Noisy Sine'] / df.loc[:,'Noisy Cosine']\n",
    "\n",
    "df.to_csv(path_or_buf=file_path, \n",
    "          sep=',', \n",
    "          header = True, # This keeps the header in the csv file\n",
    "          index= False)  # Index False removes the row numbers present in the Datatable\n",
    "\n",
    "# for the full list of options in to_csv consult the help()"
   ]
  },
  {
   "cell_type": "markdown",
   "metadata": {},
   "source": [
    "Although csv files are readily open by Excel for certain applications it might be usefull to save directly to an excel file\n",
    "\n",
    "Saving to an excel file is slightly more complex, since you need first an Excel Writer Engine\n",
    "\n",
    "Pandas writes Excel files using the Xlwt module for xls files and the Openpyxl or XlsxWriter modules for xlsx files.\n"
   ]
  },
  {
   "cell_type": "code",
   "execution_count": null,
   "metadata": {},
   "outputs": [],
   "source": [
    "#folder_directory = 'C:/Users/gabriele.a/Documents/Git Repository/PG_Python_Training/Current Training/NoteBooks/'\n",
    "file_name = 'noisy-timeserie-data_and_tan.xlsx'\n",
    "file_path = folder_directory+file_name\n",
    "\n",
    "\n",
    "df.loc[:,'Noisy Tangent'] = df.loc[:,'Noisy Sine'] / df.loc[:,'Noisy Cosine']\n",
    "\n",
    "#print(df.iloc[:,0:5])\n",
    "\n",
    "# Create a Pandas Excel writer using XlsxWriter as the engine.\n",
    "writer = pd.ExcelWriter(file_path, engine='xlsxwriter')\n",
    "\n",
    "# Convert the dataframe to an XlsxWriter Excel object.\n",
    "df.to_excel(writer, \n",
    "            sheet_name='my_first_sheet',\n",
    "            index = False)\n",
    "\n",
    "# Close the Pandas Excel writer and output the Excel file.\n",
    "writer.save()\n"
   ]
  },
  {
   "cell_type": "code",
   "execution_count": null,
   "metadata": {},
   "outputs": [],
   "source": []
  }
 ],
 "metadata": {
  "kernelspec": {
   "display_name": "Python 3",
   "language": "python",
   "name": "python3"
  },
  "language_info": {
   "codemirror_mode": {
    "name": "ipython",
    "version": 3
   },
   "file_extension": ".py",
   "mimetype": "text/x-python",
   "name": "python",
   "nbconvert_exporter": "python",
   "pygments_lexer": "ipython3",
   "version": "3.5.5"
  }
 },
 "nbformat": 4,
 "nbformat_minor": 1
}
