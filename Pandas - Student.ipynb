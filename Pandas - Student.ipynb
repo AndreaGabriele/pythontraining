{
 "cells": [
  {
   "cell_type": "markdown",
   "metadata": {
    "collapsed": true
   },
   "source": [
    "# Most Commonly used Modules"
   ]
  },
  {
   "cell_type": "markdown",
   "metadata": {},
   "source": [
    "## Pandas\n",
    "\n",
    "Python has long been great for data munging and preparation, but less so for data analysis and modeling. \n",
    "\n",
    "Pandas helps fill this gap, enabling data analysis workflow in Python without having to switch to a more domain specific language like R.\n",
    "\n",
    "* Pandas introduces the concept of DataFrame for manipulating data with indexing\n",
    "* Reading / Writing data between in-memory and different formats (CSV / Excel, SQL databases)\n",
    "* Handling of missing data: easily manipulate messy data into an orderly form\n",
    "* Flexible reshaping and pivoting of data sets\n",
    "* Label-based slicing, subsetting of large data sets\n",
    "* Columns can be inserted and deleted from data structures for size mutability\n",
    "* Merging and joining of data sets\n",
    "* Handle Time series: \n",
    "    * Date range generation and frequency conversion, \n",
    "    * Moving window statistics\n",
    "    * Moving window linear regressions\n",
    "    * Date shifting and lagging\n",
    "\n",
    "\n"
   ]
  },
  {
   "cell_type": "code",
   "execution_count": 4,
   "metadata": {},
   "outputs": [],
   "source": [
    "# import Pandas Module\n",
    "import pandas as pd \n"
   ]
  },
  {
   "cell_type": "markdown",
   "metadata": {},
   "source": [
    "### DataFrames\n",
    "A Data frame is a two-dimensional data structure, i.e., data is aligned in a tabular fashion in rows and columns.\n",
    "\n",
    "#### Features of DataFrame\n",
    "- Potentially columns are of different types\n",
    "- Size – Mutable\n",
    "- Labeled axes (rows and columns)\n",
    "- Can Perform Arithmetic operations on rows and columns"
   ]
  },
  {
   "cell_type": "code",
   "execution_count": null,
   "metadata": {},
   "outputs": [],
   "source": [
    "help(pd.DataFrame)"
   ]
  },
  {
   "cell_type": "markdown",
   "metadata": {},
   "source": [
    "A pandas DataFrame can be created using various inputs like:\n",
    "\n",
    "- Lists\n",
    "- dict\n",
    "- Series\n",
    "- Numpy ndarrays\n",
    "- Another DataFrames\n",
    "\n",
    "Another way of creating a DataFrame:"
   ]
  },
  {
   "cell_type": "markdown",
   "metadata": {},
   "source": [
    "##### Data Frames from Lists"
   ]
  },
  {
   "cell_type": "code",
   "execution_count": 5,
   "metadata": {},
   "outputs": [],
   "source": [
    "# The inital set of baby names and bith rates\n",
    "names = ['Bob','Jessica','Mary','John','Mel']\n",
    "births = [968, 155, 77, 578, 973]\n",
    "\n",
    "# to merge two lists by the second dimetion you can use zip\n",
    "BabyDataSet = list(zip(names,births))"
   ]
  },
  {
   "cell_type": "code",
   "execution_count": 6,
   "metadata": {},
   "outputs": [
    {
     "data": {
      "text/plain": [
       "[('Bob', 968), ('Jessica', 155), ('Mary', 77), ('John', 578), ('Mel', 973)]"
      ]
     },
     "execution_count": 6,
     "metadata": {},
     "output_type": "execute_result"
    }
   ],
   "source": [
    "BabyDataSet\n"
   ]
  },
  {
   "cell_type": "code",
   "execution_count": 7,
   "metadata": {},
   "outputs": [
    {
     "name": "stdout",
     "output_type": "stream",
     "text": [
      "     Names  Births\n",
      "0      Bob     968\n",
      "1  Jessica     155\n",
      "2     Mary      77\n",
      "3     John     578\n",
      "4      Mel     973\n"
     ]
    }
   ],
   "source": [
    "df = pd.DataFrame(data = BabyDataSet, columns=['Names', 'Births'])\n",
    "print(df)"
   ]
  },
  {
   "cell_type": "markdown",
   "metadata": {},
   "source": [
    "# Dataframes from Dictionaries"
   ]
  },
  {
   "cell_type": "code",
   "execution_count": 10,
   "metadata": {},
   "outputs": [
    {
     "name": "stdout",
     "output_type": "stream",
     "text": [
      "   births    names\n",
      "0     968      Bob\n",
      "1     155  Jessica\n",
      "2      77     Mary\n",
      "3     578     John\n",
      "4     973      Mel\n"
     ]
    }
   ],
   "source": [
    "df = pd.DataFrame({'births':births,\n",
    "                    'names':names})\n",
    "print(df)"
   ]
  },
  {
   "cell_type": "markdown",
   "metadata": {},
   "source": [
    "##### DataFrames from Numpy Arrays"
   ]
  },
  {
   "cell_type": "code",
   "execution_count": 33,
   "metadata": {},
   "outputs": [
    {
     "data": {
      "text/html": [
       "<div>\n",
       "<style scoped>\n",
       "    .dataframe tbody tr th:only-of-type {\n",
       "        vertical-align: middle;\n",
       "    }\n",
       "\n",
       "    .dataframe tbody tr th {\n",
       "        vertical-align: top;\n",
       "    }\n",
       "\n",
       "    .dataframe thead th {\n",
       "        text-align: right;\n",
       "    }\n",
       "</style>\n",
       "<table border=\"1\" class=\"dataframe\">\n",
       "  <thead>\n",
       "    <tr style=\"text-align: right;\">\n",
       "      <th></th>\n",
       "      <th>0</th>\n",
       "      <th>1</th>\n",
       "    </tr>\n",
       "  </thead>\n",
       "  <tbody>\n",
       "    <tr>\n",
       "      <th>0</th>\n",
       "      <td>0.951239</td>\n",
       "      <td>1.0</td>\n",
       "    </tr>\n",
       "    <tr>\n",
       "      <th>1</th>\n",
       "      <td>1.951239</td>\n",
       "      <td>2.0</td>\n",
       "    </tr>\n",
       "    <tr>\n",
       "      <th>2</th>\n",
       "      <td>2.951239</td>\n",
       "      <td>3.0</td>\n",
       "    </tr>\n",
       "    <tr>\n",
       "      <th>3</th>\n",
       "      <td>3.951239</td>\n",
       "      <td>4.0</td>\n",
       "    </tr>\n",
       "    <tr>\n",
       "      <th>4</th>\n",
       "      <td>4.951239</td>\n",
       "      <td>5.0</td>\n",
       "    </tr>\n",
       "    <tr>\n",
       "      <th>5</th>\n",
       "      <td>5.951239</td>\n",
       "      <td>6.0</td>\n",
       "    </tr>\n",
       "    <tr>\n",
       "      <th>6</th>\n",
       "      <td>6.951239</td>\n",
       "      <td>7.0</td>\n",
       "    </tr>\n",
       "    <tr>\n",
       "      <th>7</th>\n",
       "      <td>7.951239</td>\n",
       "      <td>8.0</td>\n",
       "    </tr>\n",
       "    <tr>\n",
       "      <th>8</th>\n",
       "      <td>8.951239</td>\n",
       "      <td>9.0</td>\n",
       "    </tr>\n",
       "    <tr>\n",
       "      <th>9</th>\n",
       "      <td>9.951239</td>\n",
       "      <td>10.0</td>\n",
       "    </tr>\n",
       "    <tr>\n",
       "      <th>10</th>\n",
       "      <td>10.951239</td>\n",
       "      <td>11.0</td>\n",
       "    </tr>\n",
       "    <tr>\n",
       "      <th>11</th>\n",
       "      <td>11.951239</td>\n",
       "      <td>12.0</td>\n",
       "    </tr>\n",
       "    <tr>\n",
       "      <th>12</th>\n",
       "      <td>12.951239</td>\n",
       "      <td>13.0</td>\n",
       "    </tr>\n",
       "    <tr>\n",
       "      <th>13</th>\n",
       "      <td>13.951239</td>\n",
       "      <td>14.0</td>\n",
       "    </tr>\n",
       "    <tr>\n",
       "      <th>14</th>\n",
       "      <td>14.951239</td>\n",
       "      <td>15.0</td>\n",
       "    </tr>\n",
       "    <tr>\n",
       "      <th>15</th>\n",
       "      <td>15.951239</td>\n",
       "      <td>16.0</td>\n",
       "    </tr>\n",
       "  </tbody>\n",
       "</table>\n",
       "</div>"
      ],
      "text/plain": [
       "            0     1\n",
       "0    0.951239   1.0\n",
       "1    1.951239   2.0\n",
       "2    2.951239   3.0\n",
       "3    3.951239   4.0\n",
       "4    4.951239   5.0\n",
       "5    5.951239   6.0\n",
       "6    6.951239   7.0\n",
       "7    7.951239   8.0\n",
       "8    8.951239   9.0\n",
       "9    9.951239  10.0\n",
       "10  10.951239  11.0\n",
       "11  11.951239  12.0\n",
       "12  12.951239  13.0\n",
       "13  13.951239  14.0\n",
       "14  14.951239  15.0\n",
       "15  15.951239  16.0"
      ]
     },
     "execution_count": 33,
     "metadata": {},
     "output_type": "execute_result"
    }
   ],
   "source": [
    "import numpy as np\n",
    "\n",
    "exact_vector = np.arange(16) + np.random.rand()\n",
    "round_vector = np.round(exact_vector)\n",
    "\n",
    "data = np.vstack((exact_vector,round_vector))\n",
    "\n",
    "data = np.transpose(data)\n",
    "df = pd.DataFrame(data)\n",
    "df"
   ]
  },
  {
   "cell_type": "code",
   "execution_count": 17,
   "metadata": {},
   "outputs": [
    {
     "data": {
      "text/plain": [
       "array([ 0.85054781,  1.85054781,  2.85054781,  3.85054781,  4.85054781,\n",
       "        5.85054781,  6.85054781,  7.85054781,  8.85054781,  9.85054781,\n",
       "       10.85054781, 11.85054781, 12.85054781, 13.85054781, 14.85054781,\n",
       "       15.85054781])"
      ]
     },
     "execution_count": 17,
     "metadata": {},
     "output_type": "execute_result"
    }
   ],
   "source": [
    "\n"
   ]
  },
  {
   "cell_type": "code",
   "execution_count": 15,
   "metadata": {
    "collapsed": true
   },
   "outputs": [
    {
     "data": {
      "text/html": [
       "<div>\n",
       "<style scoped>\n",
       "    .dataframe tbody tr th:only-of-type {\n",
       "        vertical-align: middle;\n",
       "    }\n",
       "\n",
       "    .dataframe tbody tr th {\n",
       "        vertical-align: top;\n",
       "    }\n",
       "\n",
       "    .dataframe thead th {\n",
       "        text-align: right;\n",
       "    }\n",
       "</style>\n",
       "<table border=\"1\" class=\"dataframe\">\n",
       "  <thead>\n",
       "    <tr style=\"text-align: right;\">\n",
       "      <th></th>\n",
       "      <th>0</th>\n",
       "      <th>1</th>\n",
       "    </tr>\n",
       "  </thead>\n",
       "  <tbody>\n",
       "    <tr>\n",
       "      <th>0</th>\n",
       "      <td>0.850548</td>\n",
       "      <td>1.0</td>\n",
       "    </tr>\n",
       "    <tr>\n",
       "      <th>1</th>\n",
       "      <td>1.850548</td>\n",
       "      <td>2.0</td>\n",
       "    </tr>\n",
       "    <tr>\n",
       "      <th>2</th>\n",
       "      <td>2.850548</td>\n",
       "      <td>3.0</td>\n",
       "    </tr>\n",
       "    <tr>\n",
       "      <th>3</th>\n",
       "      <td>3.850548</td>\n",
       "      <td>4.0</td>\n",
       "    </tr>\n",
       "    <tr>\n",
       "      <th>4</th>\n",
       "      <td>4.850548</td>\n",
       "      <td>5.0</td>\n",
       "    </tr>\n",
       "    <tr>\n",
       "      <th>5</th>\n",
       "      <td>5.850548</td>\n",
       "      <td>6.0</td>\n",
       "    </tr>\n",
       "    <tr>\n",
       "      <th>6</th>\n",
       "      <td>6.850548</td>\n",
       "      <td>7.0</td>\n",
       "    </tr>\n",
       "    <tr>\n",
       "      <th>7</th>\n",
       "      <td>7.850548</td>\n",
       "      <td>8.0</td>\n",
       "    </tr>\n",
       "    <tr>\n",
       "      <th>8</th>\n",
       "      <td>8.850548</td>\n",
       "      <td>9.0</td>\n",
       "    </tr>\n",
       "    <tr>\n",
       "      <th>9</th>\n",
       "      <td>9.850548</td>\n",
       "      <td>10.0</td>\n",
       "    </tr>\n",
       "    <tr>\n",
       "      <th>10</th>\n",
       "      <td>10.850548</td>\n",
       "      <td>11.0</td>\n",
       "    </tr>\n",
       "    <tr>\n",
       "      <th>11</th>\n",
       "      <td>11.850548</td>\n",
       "      <td>12.0</td>\n",
       "    </tr>\n",
       "    <tr>\n",
       "      <th>12</th>\n",
       "      <td>12.850548</td>\n",
       "      <td>13.0</td>\n",
       "    </tr>\n",
       "    <tr>\n",
       "      <th>13</th>\n",
       "      <td>13.850548</td>\n",
       "      <td>14.0</td>\n",
       "    </tr>\n",
       "    <tr>\n",
       "      <th>14</th>\n",
       "      <td>14.850548</td>\n",
       "      <td>15.0</td>\n",
       "    </tr>\n",
       "    <tr>\n",
       "      <th>15</th>\n",
       "      <td>15.850548</td>\n",
       "      <td>16.0</td>\n",
       "    </tr>\n",
       "  </tbody>\n",
       "</table>\n",
       "</div>"
      ],
      "text/plain": [
       "            0     1\n",
       "0    0.850548   1.0\n",
       "1    1.850548   2.0\n",
       "2    2.850548   3.0\n",
       "3    3.850548   4.0\n",
       "4    4.850548   5.0\n",
       "5    5.850548   6.0\n",
       "6    6.850548   7.0\n",
       "7    7.850548   8.0\n",
       "8    8.850548   9.0\n",
       "9    9.850548  10.0\n",
       "10  10.850548  11.0\n",
       "11  11.850548  12.0\n",
       "12  12.850548  13.0\n",
       "13  13.850548  14.0\n",
       "14  14.850548  15.0\n",
       "15  15.850548  16.0"
      ]
     },
     "execution_count": 15,
     "metadata": {},
     "output_type": "execute_result"
    }
   ],
   "source": [
    "\n"
   ]
  },
  {
   "cell_type": "code",
   "execution_count": null,
   "metadata": {},
   "outputs": [],
   "source": []
  },
  {
   "cell_type": "code",
   "execution_count": 34,
   "metadata": {},
   "outputs": [
    {
     "data": {
      "text/html": [
       "<div>\n",
       "<style scoped>\n",
       "    .dataframe tbody tr th:only-of-type {\n",
       "        vertical-align: middle;\n",
       "    }\n",
       "\n",
       "    .dataframe tbody tr th {\n",
       "        vertical-align: top;\n",
       "    }\n",
       "\n",
       "    .dataframe thead th {\n",
       "        text-align: right;\n",
       "    }\n",
       "</style>\n",
       "<table border=\"1\" class=\"dataframe\">\n",
       "  <thead>\n",
       "    <tr style=\"text-align: right;\">\n",
       "      <th></th>\n",
       "      <th>Exact Numbers</th>\n",
       "      <th>Round Numbers</th>\n",
       "      <th>Error</th>\n",
       "    </tr>\n",
       "  </thead>\n",
       "  <tbody>\n",
       "    <tr>\n",
       "      <th>0</th>\n",
       "      <td>0.951239</td>\n",
       "      <td>1.0</td>\n",
       "      <td>-0.048761</td>\n",
       "    </tr>\n",
       "    <tr>\n",
       "      <th>1</th>\n",
       "      <td>1.951239</td>\n",
       "      <td>2.0</td>\n",
       "      <td>-0.024380</td>\n",
       "    </tr>\n",
       "    <tr>\n",
       "      <th>2</th>\n",
       "      <td>2.951239</td>\n",
       "      <td>3.0</td>\n",
       "      <td>-0.016254</td>\n",
       "    </tr>\n",
       "    <tr>\n",
       "      <th>3</th>\n",
       "      <td>3.951239</td>\n",
       "      <td>4.0</td>\n",
       "      <td>-0.012190</td>\n",
       "    </tr>\n",
       "    <tr>\n",
       "      <th>4</th>\n",
       "      <td>4.951239</td>\n",
       "      <td>5.0</td>\n",
       "      <td>-0.009752</td>\n",
       "    </tr>\n",
       "  </tbody>\n",
       "</table>\n",
       "</div>"
      ],
      "text/plain": [
       "   Exact Numbers  Round Numbers     Error\n",
       "0       0.951239            1.0 -0.048761\n",
       "1       1.951239            2.0 -0.024380\n",
       "2       2.951239            3.0 -0.016254\n",
       "3       3.951239            4.0 -0.012190\n",
       "4       4.951239            5.0 -0.009752"
      ]
     },
     "execution_count": 34,
     "metadata": {},
     "output_type": "execute_result"
    }
   ],
   "source": [
    "# Ranaming Colums\n",
    "df = df.rename(columns = {0:'Exact Numbers',\n",
    "                          1:'Round Numbers'})\n",
    "\n",
    "df['Error'] = (df['Exact Numbers']- df['Round Numbers'])/df['Round Numbers']\n",
    "\n",
    "df.head(5)\n",
    "\n"
   ]
  },
  {
   "cell_type": "code",
   "execution_count": 35,
   "metadata": {},
   "outputs": [
    {
     "data": {
      "text/plain": [
       "<matplotlib.axes._subplots.AxesSubplot at 0xd45bcc0>"
      ]
     },
     "execution_count": 35,
     "metadata": {},
     "output_type": "execute_result"
    },
    {
     "data": {
      "image/png": "[encoded data removed]",
      "text/plain": [
       "<matplotlib.figure.Figure at 0xe7143c8>"
      ]
     },
     "metadata": {},
     "output_type": "display_data"
    },
    {
     "data": {
      "image/png": "[encoded data removed]",
      "text/plain": [
       "<matplotlib.figure.Figure at 0xd44fd68>"
      ]
     },
     "metadata": {},
     "output_type": "display_data"
    }
   ],
   "source": [
    "%matplotlib inline\n",
    "\n",
    "df.plot.scatter(x ='Exact Numbers', y= 'Round Numbers', title = 'Plot Rounding')\n",
    "df.plot.scatter(x ='Exact Numbers', y= 'Error', title = 'Plot Error')"
   ]
  },
  {
   "cell_type": "code",
   "execution_count": 20,
   "metadata": {},
   "outputs": [
    {
     "name": "stdout",
     "output_type": "stream",
     "text": [
      "     Col1 Col2\n",
      "Row1    1    2\n",
      "Row2    3    4\n"
     ]
    }
   ],
   "source": [
    "# Alternatively it is possible to use the List property of storing Numbers and Strings\n",
    "data = np.array([['','Col1','Col2'],\n",
    "                ['Row1',1,2],\n",
    "                ['Row2',3,4]])\n",
    "                \n",
    "print(pd.DataFrame(data=data[1:,1:],\n",
    "                  index=data[1:,0],\n",
    "                  columns=data[0,1:]))"
   ]
  },
  {
   "cell_type": "markdown",
   "metadata": {},
   "source": [
    "## <span style=\"color:blue\"> **Exercise** </span>\n",
    "\n",
    "1. Create a DataFrame and visualize in a graph the two arrays below, using what you have learned untill now\n",
    "\n",
    "(categporical x-axis data can be plotted with the kind='bar' argument)\n",
    "\n"
   ]
  },
  {
   "cell_type": "code",
   "execution_count": 27,
   "metadata": {},
   "outputs": [
    {
     "data": {
      "image/png": "[encoded data removed]",
      "text/plain": [
       "<matplotlib.figure.Figure at 0xd3a9550>"
      ]
     },
     "metadata": {},
     "output_type": "display_data"
    },
    {
     "data": {
      "image/png": "[encoded data removed]",
      "text/plain": [
       "<matplotlib.figure.Figure at 0xd3a9390>"
      ]
     },
     "metadata": {},
     "output_type": "display_data"
    }
   ],
   "source": [
    "properties = ['Flat','Mansions','House','Land','N/A']\n",
    "sales = [1021, 155, 770, 378, 1051]\n",
    "df = pd.DataFrame({'type_properties': properties,\n",
    "                  'num_sales' : sales})\n",
    "\n",
    "#Result\n",
    "DataSet = list(zip(properties,sales))\n",
    "df_house = pd.DataFrame(data = DataSet, columns=['properties', 'sales'])\n",
    "\n",
    "df.plot.bar(x='type_properties', y='num_sales')\n",
    "\n",
    "import seaborn as sns\n",
    "sns.catplot(x='type_properties', y='num_sales',kind=\"bar\", data=df);\n"
   ]
  },
  {
   "cell_type": "markdown",
   "metadata": {},
   "source": [
    "After you have created your DataFrame. You can use:\n",
    "- `.shape` the shape property will give you the dimensions of your DataFrame\n",
    "- `len()` & `.index` give you information on the height of your DataFrame\n",
    "\n",
    "\n"
   ]
  },
  {
   "cell_type": "code",
   "execution_count": 36,
   "metadata": {},
   "outputs": [
    {
     "data": {
      "text/plain": [
       "(16, 3)"
      ]
     },
     "execution_count": 36,
     "metadata": {},
     "output_type": "execute_result"
    }
   ],
   "source": [
    "df.shape"
   ]
  },
  {
   "cell_type": "code",
   "execution_count": 37,
   "metadata": {},
   "outputs": [
    {
     "data": {
      "text/plain": [
       "RangeIndex(start=0, stop=16, step=1)"
      ]
     },
     "execution_count": 37,
     "metadata": {},
     "output_type": "execute_result"
    }
   ],
   "source": [
    "df.index"
   ]
  },
  {
   "cell_type": "code",
   "execution_count": 38,
   "metadata": {},
   "outputs": [
    {
     "data": {
      "text/plain": [
       "16"
      ]
     },
     "execution_count": 38,
     "metadata": {},
     "output_type": "execute_result"
    }
   ],
   "source": [
    "len(df)"
   ]
  },
  {
   "cell_type": "code",
   "execution_count": 42,
   "metadata": {},
   "outputs": [
    {
     "data": {
      "text/plain": [
       "['Exact Numbers', 'Round Numbers', 'Error']"
      ]
     },
     "execution_count": 42,
     "metadata": {},
     "output_type": "execute_result"
    }
   ],
   "source": [
    "# Column Names\n",
    "list(df.columns)"
   ]
  },
  {
   "cell_type": "markdown",
   "metadata": {},
   "source": [
    "#### DateFrama Operations\n"
   ]
  },
  {
   "cell_type": "markdown",
   "metadata": {},
   "source": [
    "#### Select Values in DataFrame\n",
    "\n",
    "One of the most important part of operating with DataFrames is to be able to extract data from it.\n",
    "\n",
    "In R, you use the [,] notation to access the data frame’s values. in Python Pandas, the most important functions are:\n",
    "\n",
    "- `iloc`: select row based on an index `'0'`\n",
    "- `loc`:  Select Data based on a column name `'Exact Numbers'`\n",
    "\n"
   ]
  },
  {
   "cell_type": "code",
   "execution_count": 45,
   "metadata": {},
   "outputs": [
    {
     "name": "stdout",
     "output_type": "stream",
     "text": [
      "0      0.951239\n",
      "1      1.951239\n",
      "2      2.951239\n",
      "3      3.951239\n",
      "4      4.951239\n",
      "5      5.951239\n",
      "6      6.951239\n",
      "7      7.951239\n",
      "8      8.951239\n",
      "9      9.951239\n",
      "10    10.951239\n",
      "11    11.951239\n",
      "12    12.951239\n",
      "13    13.951239\n",
      "14    14.951239\n",
      "15    15.951239\n",
      "Name: Exact Numbers, dtype: float64\n"
     ]
    }
   ],
   "source": [
    "# Select all the element of the first \n",
    "df.iloc[:,0]\n",
    "#print(df.iloc[:,0])\n",
    "\n",
    "print(df.loc[:,'Exact Numbers'])\n"
   ]
  },
  {
   "cell_type": "code",
   "execution_count": 46,
   "metadata": {},
   "outputs": [
    {
     "name": "stdout",
     "output_type": "stream",
     "text": [
      "0    0.327802\n",
      "1    1.327802\n",
      "2    2.327802\n",
      "3    3.327802\n",
      "4    4.327802\n",
      "5    5.327802\n",
      "Name: Exact Numbers, dtype: float64\n"
     ]
    }
   ],
   "source": [
    "import numpy as np\n",
    "\n",
    "exact_vector = np.arange(16) + np.random.rand()\n",
    "round_vector = np.round(exact_vector)\n",
    "\n",
    "data = np.vstack((exact_vector,round_vector))\n",
    "\n",
    "data = np.transpose(data)\n",
    "\n",
    "df = pd.DataFrame(data)\n",
    "# Ranaming Colums\n",
    "df = df.rename(columns = {0:'Exact Numbers',\n",
    "                          1:'Round Numbers'})\n",
    "\n",
    "df['Error'] = (df['Exact Numbers']- df['Round Numbers'])/df['Round Numbers']\n",
    "\n",
    "df.loc[df['Exact Numbers'] >10 ,'Exact Numbers']\n",
    "\n",
    "print(df.loc[0:5,'Exact Numbers'])"
   ]
  },
  {
   "cell_type": "code",
   "execution_count": 53,
   "metadata": {},
   "outputs": [
    {
     "data": {
      "text/html": [
       "<div>\n",
       "<style scoped>\n",
       "    .dataframe tbody tr th:only-of-type {\n",
       "        vertical-align: middle;\n",
       "    }\n",
       "\n",
       "    .dataframe tbody tr th {\n",
       "        vertical-align: top;\n",
       "    }\n",
       "\n",
       "    .dataframe thead th {\n",
       "        text-align: right;\n",
       "    }\n",
       "</style>\n",
       "<table border=\"1\" class=\"dataframe\">\n",
       "  <thead>\n",
       "    <tr style=\"text-align: right;\">\n",
       "      <th></th>\n",
       "      <th>Exact Numbers</th>\n",
       "      <th>Round Numbers</th>\n",
       "    </tr>\n",
       "  </thead>\n",
       "  <tbody>\n",
       "    <tr>\n",
       "      <th>11</th>\n",
       "      <td>11.327802</td>\n",
       "      <td>11.0</td>\n",
       "    </tr>\n",
       "    <tr>\n",
       "      <th>12</th>\n",
       "      <td>12.327802</td>\n",
       "      <td>12.0</td>\n",
       "    </tr>\n",
       "    <tr>\n",
       "      <th>13</th>\n",
       "      <td>13.327802</td>\n",
       "      <td>13.0</td>\n",
       "    </tr>\n",
       "    <tr>\n",
       "      <th>14</th>\n",
       "      <td>14.327802</td>\n",
       "      <td>14.0</td>\n",
       "    </tr>\n",
       "    <tr>\n",
       "      <th>15</th>\n",
       "      <td>15.327802</td>\n",
       "      <td>15.0</td>\n",
       "    </tr>\n",
       "  </tbody>\n",
       "</table>\n",
       "</div>"
      ],
      "text/plain": [
       "    Exact Numbers  Round Numbers\n",
       "11      11.327802           11.0\n",
       "12      12.327802           12.0\n",
       "13      13.327802           13.0\n",
       "14      14.327802           14.0\n",
       "15      15.327802           15.0"
      ]
     },
     "execution_count": 53,
     "metadata": {},
     "output_type": "execute_result"
    }
   ],
   "source": [
    "df.loc[(df['Exact Numbers'] >10) &\n",
    "       (df['Round Numbers'] >10)\n",
    "       ,['Exact Numbers','Round Numbers']]"
   ]
  },
  {
   "cell_type": "markdown",
   "metadata": {},
   "source": [
    "##### Adding a new Column\n",
    "\n",
    "A new column can be added by using `loc` and an operation"
   ]
  },
  {
   "cell_type": "code",
   "execution_count": 47,
   "metadata": {},
   "outputs": [],
   "source": [
    "df.loc[:,'Rounding Difference'] = df.iloc[:,0]-df.iloc[:,1]"
   ]
  },
  {
   "cell_type": "code",
   "execution_count": 48,
   "metadata": {},
   "outputs": [
    {
     "data": {
      "text/html": [
       "<div>\n",
       "<style scoped>\n",
       "    .dataframe tbody tr th:only-of-type {\n",
       "        vertical-align: middle;\n",
       "    }\n",
       "\n",
       "    .dataframe tbody tr th {\n",
       "        vertical-align: top;\n",
       "    }\n",
       "\n",
       "    .dataframe thead th {\n",
       "        text-align: right;\n",
       "    }\n",
       "</style>\n",
       "<table border=\"1\" class=\"dataframe\">\n",
       "  <thead>\n",
       "    <tr style=\"text-align: right;\">\n",
       "      <th></th>\n",
       "      <th>Exact Numbers</th>\n",
       "      <th>Round Numbers</th>\n",
       "      <th>Error</th>\n",
       "      <th>Rounding Difference</th>\n",
       "    </tr>\n",
       "  </thead>\n",
       "  <tbody>\n",
       "    <tr>\n",
       "      <th>0</th>\n",
       "      <td>0.327802</td>\n",
       "      <td>0.0</td>\n",
       "      <td>inf</td>\n",
       "      <td>0.327802</td>\n",
       "    </tr>\n",
       "    <tr>\n",
       "      <th>1</th>\n",
       "      <td>1.327802</td>\n",
       "      <td>1.0</td>\n",
       "      <td>0.327802</td>\n",
       "      <td>0.327802</td>\n",
       "    </tr>\n",
       "    <tr>\n",
       "      <th>2</th>\n",
       "      <td>2.327802</td>\n",
       "      <td>2.0</td>\n",
       "      <td>0.163901</td>\n",
       "      <td>0.327802</td>\n",
       "    </tr>\n",
       "    <tr>\n",
       "      <th>3</th>\n",
       "      <td>3.327802</td>\n",
       "      <td>3.0</td>\n",
       "      <td>0.109267</td>\n",
       "      <td>0.327802</td>\n",
       "    </tr>\n",
       "    <tr>\n",
       "      <th>4</th>\n",
       "      <td>4.327802</td>\n",
       "      <td>4.0</td>\n",
       "      <td>0.081951</td>\n",
       "      <td>0.327802</td>\n",
       "    </tr>\n",
       "  </tbody>\n",
       "</table>\n",
       "</div>"
      ],
      "text/plain": [
       "   Exact Numbers  Round Numbers     Error  Rounding Difference\n",
       "0       0.327802            0.0       inf             0.327802\n",
       "1       1.327802            1.0  0.327802             0.327802\n",
       "2       2.327802            2.0  0.163901             0.327802\n",
       "3       3.327802            3.0  0.109267             0.327802\n",
       "4       4.327802            4.0  0.081951             0.327802"
      ]
     },
     "execution_count": 48,
     "metadata": {},
     "output_type": "execute_result"
    }
   ],
   "source": [
    "df.head(5)"
   ]
  },
  {
   "cell_type": "markdown",
   "metadata": {},
   "source": [
    "##### Boolean Indexing\n",
    "\n",
    "Usefull to filter values of a column based on conditions from another set of columns. \n",
    "\n",
    "For instance, we want to subset a dataframe boolean indexing can help here. \n",
    "\n",
    "You can use the following code:\n"
   ]
  },
  {
   "cell_type": "code",
   "execution_count": 54,
   "metadata": {},
   "outputs": [
    {
     "name": "stdout",
     "output_type": "stream",
     "text": [
      "    Exact Numbers  Round Numbers     Error  Rounding Difference\n",
      "12      12.327802           12.0  0.027317             0.327802\n",
      "13      13.327802           13.0  0.025216             0.327802\n",
      "14      14.327802           14.0  0.023414             0.327802\n",
      "15      15.327802           15.0  0.021853             0.327802\n"
     ]
    }
   ],
   "source": [
    "sub_df = df.loc[(df['Exact Numbers']>10) & \n",
    "       (df['Round Numbers']>11),:]\n",
    "\n",
    "print(sub_df)"
   ]
  },
  {
   "cell_type": "markdown",
   "metadata": {},
   "source": [
    "##### Removing a Column or a Row"
   ]
  },
  {
   "cell_type": "code",
   "execution_count": 55,
   "metadata": {},
   "outputs": [
    {
     "data": {
      "text/html": [
       "<div>\n",
       "<style scoped>\n",
       "    .dataframe tbody tr th:only-of-type {\n",
       "        vertical-align: middle;\n",
       "    }\n",
       "\n",
       "    .dataframe tbody tr th {\n",
       "        vertical-align: top;\n",
       "    }\n",
       "\n",
       "    .dataframe thead th {\n",
       "        text-align: right;\n",
       "    }\n",
       "</style>\n",
       "<table border=\"1\" class=\"dataframe\">\n",
       "  <thead>\n",
       "    <tr style=\"text-align: right;\">\n",
       "      <th></th>\n",
       "      <th>Exact Numbers</th>\n",
       "      <th>Round Numbers</th>\n",
       "      <th>Rounding Difference</th>\n",
       "    </tr>\n",
       "  </thead>\n",
       "  <tbody>\n",
       "    <tr>\n",
       "      <th>0</th>\n",
       "      <td>0.327802</td>\n",
       "      <td>0.0</td>\n",
       "      <td>0.327802</td>\n",
       "    </tr>\n",
       "    <tr>\n",
       "      <th>1</th>\n",
       "      <td>1.327802</td>\n",
       "      <td>1.0</td>\n",
       "      <td>0.327802</td>\n",
       "    </tr>\n",
       "    <tr>\n",
       "      <th>2</th>\n",
       "      <td>2.327802</td>\n",
       "      <td>2.0</td>\n",
       "      <td>0.327802</td>\n",
       "    </tr>\n",
       "    <tr>\n",
       "      <th>3</th>\n",
       "      <td>3.327802</td>\n",
       "      <td>3.0</td>\n",
       "      <td>0.327802</td>\n",
       "    </tr>\n",
       "    <tr>\n",
       "      <th>4</th>\n",
       "      <td>4.327802</td>\n",
       "      <td>4.0</td>\n",
       "      <td>0.327802</td>\n",
       "    </tr>\n",
       "    <tr>\n",
       "      <th>5</th>\n",
       "      <td>5.327802</td>\n",
       "      <td>5.0</td>\n",
       "      <td>0.327802</td>\n",
       "    </tr>\n",
       "    <tr>\n",
       "      <th>6</th>\n",
       "      <td>6.327802</td>\n",
       "      <td>6.0</td>\n",
       "      <td>0.327802</td>\n",
       "    </tr>\n",
       "    <tr>\n",
       "      <th>7</th>\n",
       "      <td>7.327802</td>\n",
       "      <td>7.0</td>\n",
       "      <td>0.327802</td>\n",
       "    </tr>\n",
       "    <tr>\n",
       "      <th>8</th>\n",
       "      <td>8.327802</td>\n",
       "      <td>8.0</td>\n",
       "      <td>0.327802</td>\n",
       "    </tr>\n",
       "    <tr>\n",
       "      <th>9</th>\n",
       "      <td>9.327802</td>\n",
       "      <td>9.0</td>\n",
       "      <td>0.327802</td>\n",
       "    </tr>\n",
       "    <tr>\n",
       "      <th>10</th>\n",
       "      <td>10.327802</td>\n",
       "      <td>10.0</td>\n",
       "      <td>0.327802</td>\n",
       "    </tr>\n",
       "    <tr>\n",
       "      <th>11</th>\n",
       "      <td>11.327802</td>\n",
       "      <td>11.0</td>\n",
       "      <td>0.327802</td>\n",
       "    </tr>\n",
       "    <tr>\n",
       "      <th>12</th>\n",
       "      <td>12.327802</td>\n",
       "      <td>12.0</td>\n",
       "      <td>0.327802</td>\n",
       "    </tr>\n",
       "    <tr>\n",
       "      <th>13</th>\n",
       "      <td>13.327802</td>\n",
       "      <td>13.0</td>\n",
       "      <td>0.327802</td>\n",
       "    </tr>\n",
       "    <tr>\n",
       "      <th>14</th>\n",
       "      <td>14.327802</td>\n",
       "      <td>14.0</td>\n",
       "      <td>0.327802</td>\n",
       "    </tr>\n",
       "    <tr>\n",
       "      <th>15</th>\n",
       "      <td>15.327802</td>\n",
       "      <td>15.0</td>\n",
       "      <td>0.327802</td>\n",
       "    </tr>\n",
       "  </tbody>\n",
       "</table>\n",
       "</div>"
      ],
      "text/plain": [
       "    Exact Numbers  Round Numbers  Rounding Difference\n",
       "0        0.327802            0.0             0.327802\n",
       "1        1.327802            1.0             0.327802\n",
       "2        2.327802            2.0             0.327802\n",
       "3        3.327802            3.0             0.327802\n",
       "4        4.327802            4.0             0.327802\n",
       "5        5.327802            5.0             0.327802\n",
       "6        6.327802            6.0             0.327802\n",
       "7        7.327802            7.0             0.327802\n",
       "8        8.327802            8.0             0.327802\n",
       "9        9.327802            9.0             0.327802\n",
       "10      10.327802           10.0             0.327802\n",
       "11      11.327802           11.0             0.327802\n",
       "12      12.327802           12.0             0.327802\n",
       "13      13.327802           13.0             0.327802\n",
       "14      14.327802           14.0             0.327802\n",
       "15      15.327802           15.0             0.327802"
      ]
     },
     "execution_count": 55,
     "metadata": {},
     "output_type": "execute_result"
    }
   ],
   "source": [
    "# Choosing by Column name\n",
    "\n",
    "df_1 = df.drop(['Error'], axis =1 )"
   ]
  },
  {
   "cell_type": "code",
   "execution_count": null,
   "metadata": {},
   "outputs": [],
   "source": [
    "# Dropping a row by Index\n",
    "df.drop([0,1,2])"
   ]
  },
  {
   "cell_type": "markdown",
   "metadata": {},
   "source": [
    "##### DataFrame - `Where`  and nesting DataFrame Methods\n",
    "\n",
    "The `where` in pandas has the same use as for Numpy. This conditional search tool is very powerfull if assiciated with other nestable Methods\n",
    "\n",
    "the example below shows the combined use of \n",
    " - `where`\n",
    " - `.dropna()`\n",
    " - `.loc`\n",
    "\n",
    "\n",
    "\n"
   ]
  },
  {
   "cell_type": "code",
   "execution_count": 56,
   "metadata": {},
   "outputs": [
    {
     "data": {
      "text/html": [
       "<div>\n",
       "<style scoped>\n",
       "    .dataframe tbody tr th:only-of-type {\n",
       "        vertical-align: middle;\n",
       "    }\n",
       "\n",
       "    .dataframe tbody tr th {\n",
       "        vertical-align: top;\n",
       "    }\n",
       "\n",
       "    .dataframe thead th {\n",
       "        text-align: right;\n",
       "    }\n",
       "</style>\n",
       "<table border=\"1\" class=\"dataframe\">\n",
       "  <thead>\n",
       "    <tr style=\"text-align: right;\">\n",
       "      <th></th>\n",
       "      <th>Exact Numbers</th>\n",
       "      <th>Round Numbers</th>\n",
       "      <th>Error</th>\n",
       "      <th>Rounding Difference</th>\n",
       "    </tr>\n",
       "  </thead>\n",
       "  <tbody>\n",
       "    <tr>\n",
       "      <th>0</th>\n",
       "      <td>0.327802</td>\n",
       "      <td>0.0</td>\n",
       "      <td>inf</td>\n",
       "      <td>0.327802</td>\n",
       "    </tr>\n",
       "    <tr>\n",
       "      <th>1</th>\n",
       "      <td>1.327802</td>\n",
       "      <td>1.0</td>\n",
       "      <td>0.327802</td>\n",
       "      <td>0.327802</td>\n",
       "    </tr>\n",
       "    <tr>\n",
       "      <th>2</th>\n",
       "      <td>2.327802</td>\n",
       "      <td>2.0</td>\n",
       "      <td>0.163901</td>\n",
       "      <td>0.327802</td>\n",
       "    </tr>\n",
       "    <tr>\n",
       "      <th>3</th>\n",
       "      <td>3.327802</td>\n",
       "      <td>3.0</td>\n",
       "      <td>0.109267</td>\n",
       "      <td>0.327802</td>\n",
       "    </tr>\n",
       "    <tr>\n",
       "      <th>4</th>\n",
       "      <td>4.327802</td>\n",
       "      <td>4.0</td>\n",
       "      <td>0.081951</td>\n",
       "      <td>0.327802</td>\n",
       "    </tr>\n",
       "    <tr>\n",
       "      <th>5</th>\n",
       "      <td>NaN</td>\n",
       "      <td>NaN</td>\n",
       "      <td>NaN</td>\n",
       "      <td>NaN</td>\n",
       "    </tr>\n",
       "    <tr>\n",
       "      <th>6</th>\n",
       "      <td>NaN</td>\n",
       "      <td>NaN</td>\n",
       "      <td>NaN</td>\n",
       "      <td>NaN</td>\n",
       "    </tr>\n",
       "    <tr>\n",
       "      <th>7</th>\n",
       "      <td>NaN</td>\n",
       "      <td>NaN</td>\n",
       "      <td>NaN</td>\n",
       "      <td>NaN</td>\n",
       "    </tr>\n",
       "    <tr>\n",
       "      <th>8</th>\n",
       "      <td>NaN</td>\n",
       "      <td>NaN</td>\n",
       "      <td>NaN</td>\n",
       "      <td>NaN</td>\n",
       "    </tr>\n",
       "    <tr>\n",
       "      <th>9</th>\n",
       "      <td>NaN</td>\n",
       "      <td>NaN</td>\n",
       "      <td>NaN</td>\n",
       "      <td>NaN</td>\n",
       "    </tr>\n",
       "    <tr>\n",
       "      <th>10</th>\n",
       "      <td>NaN</td>\n",
       "      <td>NaN</td>\n",
       "      <td>NaN</td>\n",
       "      <td>NaN</td>\n",
       "    </tr>\n",
       "    <tr>\n",
       "      <th>11</th>\n",
       "      <td>NaN</td>\n",
       "      <td>NaN</td>\n",
       "      <td>NaN</td>\n",
       "      <td>NaN</td>\n",
       "    </tr>\n",
       "    <tr>\n",
       "      <th>12</th>\n",
       "      <td>NaN</td>\n",
       "      <td>NaN</td>\n",
       "      <td>NaN</td>\n",
       "      <td>NaN</td>\n",
       "    </tr>\n",
       "    <tr>\n",
       "      <th>13</th>\n",
       "      <td>NaN</td>\n",
       "      <td>NaN</td>\n",
       "      <td>NaN</td>\n",
       "      <td>NaN</td>\n",
       "    </tr>\n",
       "    <tr>\n",
       "      <th>14</th>\n",
       "      <td>NaN</td>\n",
       "      <td>NaN</td>\n",
       "      <td>NaN</td>\n",
       "      <td>NaN</td>\n",
       "    </tr>\n",
       "    <tr>\n",
       "      <th>15</th>\n",
       "      <td>NaN</td>\n",
       "      <td>NaN</td>\n",
       "      <td>NaN</td>\n",
       "      <td>NaN</td>\n",
       "    </tr>\n",
       "  </tbody>\n",
       "</table>\n",
       "</div>"
      ],
      "text/plain": [
       "    Exact Numbers  Round Numbers     Error  Rounding Difference\n",
       "0        0.327802            0.0       inf             0.327802\n",
       "1        1.327802            1.0  0.327802             0.327802\n",
       "2        2.327802            2.0  0.163901             0.327802\n",
       "3        3.327802            3.0  0.109267             0.327802\n",
       "4        4.327802            4.0  0.081951             0.327802\n",
       "5             NaN            NaN       NaN                  NaN\n",
       "6             NaN            NaN       NaN                  NaN\n",
       "7             NaN            NaN       NaN                  NaN\n",
       "8             NaN            NaN       NaN                  NaN\n",
       "9             NaN            NaN       NaN                  NaN\n",
       "10            NaN            NaN       NaN                  NaN\n",
       "11            NaN            NaN       NaN                  NaN\n",
       "12            NaN            NaN       NaN                  NaN\n",
       "13            NaN            NaN       NaN                  NaN\n",
       "14            NaN            NaN       NaN                  NaN\n",
       "15            NaN            NaN       NaN                  NaN"
      ]
     },
     "execution_count": 56,
     "metadata": {},
     "output_type": "execute_result"
    }
   ],
   "source": [
    "# This will select rows based on the condition \"<5\" on Round Numbers\n",
    "df.where(df['Round Numbers']<5)"
   ]
  },
  {
   "cell_type": "code",
   "execution_count": 59,
   "metadata": {},
   "outputs": [
    {
     "data": {
      "text/html": [
       "<div>\n",
       "<style scoped>\n",
       "    .dataframe tbody tr th:only-of-type {\n",
       "        vertical-align: middle;\n",
       "    }\n",
       "\n",
       "    .dataframe tbody tr th {\n",
       "        vertical-align: top;\n",
       "    }\n",
       "\n",
       "    .dataframe thead th {\n",
       "        text-align: right;\n",
       "    }\n",
       "</style>\n",
       "<table border=\"1\" class=\"dataframe\">\n",
       "  <thead>\n",
       "    <tr style=\"text-align: right;\">\n",
       "      <th></th>\n",
       "      <th>Exact Numbers</th>\n",
       "      <th>Round Numbers</th>\n",
       "      <th>Error</th>\n",
       "      <th>Rounding Difference</th>\n",
       "    </tr>\n",
       "  </thead>\n",
       "  <tbody>\n",
       "    <tr>\n",
       "      <th>0</th>\n",
       "      <td>0.327802</td>\n",
       "      <td>0.0</td>\n",
       "      <td>inf</td>\n",
       "      <td>0.327802</td>\n",
       "    </tr>\n",
       "    <tr>\n",
       "      <th>1</th>\n",
       "      <td>1.327802</td>\n",
       "      <td>1.0</td>\n",
       "      <td>0.327802</td>\n",
       "      <td>0.327802</td>\n",
       "    </tr>\n",
       "    <tr>\n",
       "      <th>2</th>\n",
       "      <td>2.327802</td>\n",
       "      <td>2.0</td>\n",
       "      <td>0.163901</td>\n",
       "      <td>0.327802</td>\n",
       "    </tr>\n",
       "    <tr>\n",
       "      <th>3</th>\n",
       "      <td>3.327802</td>\n",
       "      <td>3.0</td>\n",
       "      <td>0.109267</td>\n",
       "      <td>0.327802</td>\n",
       "    </tr>\n",
       "    <tr>\n",
       "      <th>4</th>\n",
       "      <td>4.327802</td>\n",
       "      <td>4.0</td>\n",
       "      <td>0.081951</td>\n",
       "      <td>0.327802</td>\n",
       "    </tr>\n",
       "    <tr>\n",
       "      <th>5</th>\n",
       "      <td>5.327802</td>\n",
       "      <td>5.0</td>\n",
       "      <td>0.065560</td>\n",
       "      <td>0.327802</td>\n",
       "    </tr>\n",
       "    <tr>\n",
       "      <th>6</th>\n",
       "      <td>6.327802</td>\n",
       "      <td>6.0</td>\n",
       "      <td>0.054634</td>\n",
       "      <td>0.327802</td>\n",
       "    </tr>\n",
       "    <tr>\n",
       "      <th>7</th>\n",
       "      <td>7.327802</td>\n",
       "      <td>7.0</td>\n",
       "      <td>0.046829</td>\n",
       "      <td>0.327802</td>\n",
       "    </tr>\n",
       "    <tr>\n",
       "      <th>8</th>\n",
       "      <td>8.327802</td>\n",
       "      <td>8.0</td>\n",
       "      <td>0.040975</td>\n",
       "      <td>0.327802</td>\n",
       "    </tr>\n",
       "    <tr>\n",
       "      <th>9</th>\n",
       "      <td>9.327802</td>\n",
       "      <td>9.0</td>\n",
       "      <td>0.036422</td>\n",
       "      <td>0.327802</td>\n",
       "    </tr>\n",
       "    <tr>\n",
       "      <th>10</th>\n",
       "      <td>10.327802</td>\n",
       "      <td>10.0</td>\n",
       "      <td>0.032780</td>\n",
       "      <td>0.327802</td>\n",
       "    </tr>\n",
       "    <tr>\n",
       "      <th>11</th>\n",
       "      <td>11.327802</td>\n",
       "      <td>11.0</td>\n",
       "      <td>0.029800</td>\n",
       "      <td>0.327802</td>\n",
       "    </tr>\n",
       "    <tr>\n",
       "      <th>12</th>\n",
       "      <td>12.327802</td>\n",
       "      <td>12.0</td>\n",
       "      <td>0.027317</td>\n",
       "      <td>0.327802</td>\n",
       "    </tr>\n",
       "    <tr>\n",
       "      <th>13</th>\n",
       "      <td>13.327802</td>\n",
       "      <td>13.0</td>\n",
       "      <td>0.025216</td>\n",
       "      <td>0.327802</td>\n",
       "    </tr>\n",
       "    <tr>\n",
       "      <th>14</th>\n",
       "      <td>14.327802</td>\n",
       "      <td>14.0</td>\n",
       "      <td>0.023414</td>\n",
       "      <td>0.327802</td>\n",
       "    </tr>\n",
       "    <tr>\n",
       "      <th>15</th>\n",
       "      <td>15.327802</td>\n",
       "      <td>15.0</td>\n",
       "      <td>0.021853</td>\n",
       "      <td>0.327802</td>\n",
       "    </tr>\n",
       "  </tbody>\n",
       "</table>\n",
       "</div>"
      ],
      "text/plain": [
       "    Exact Numbers  Round Numbers     Error  Rounding Difference\n",
       "0        0.327802            0.0       inf             0.327802\n",
       "1        1.327802            1.0  0.327802             0.327802\n",
       "2        2.327802            2.0  0.163901             0.327802\n",
       "3        3.327802            3.0  0.109267             0.327802\n",
       "4        4.327802            4.0  0.081951             0.327802\n",
       "5        5.327802            5.0  0.065560             0.327802\n",
       "6        6.327802            6.0  0.054634             0.327802\n",
       "7        7.327802            7.0  0.046829             0.327802\n",
       "8        8.327802            8.0  0.040975             0.327802\n",
       "9        9.327802            9.0  0.036422             0.327802\n",
       "10      10.327802           10.0  0.032780             0.327802\n",
       "11      11.327802           11.0  0.029800             0.327802\n",
       "12      12.327802           12.0  0.027317             0.327802\n",
       "13      13.327802           13.0  0.025216             0.327802\n",
       "14      14.327802           14.0  0.023414             0.327802\n",
       "15      15.327802           15.0  0.021853             0.327802"
      ]
     },
     "execution_count": 59,
     "metadata": {},
     "output_type": "execute_result"
    }
   ],
   "source": [
    "# There are NaN we would want to eliminate\n",
    "df.where(df['Error']>-0.01).dropna()"
   ]
  },
  {
   "cell_type": "code",
   "execution_count": 58,
   "metadata": {},
   "outputs": [
    {
     "data": {
      "text/plain": [
       "0    0.0\n",
       "1    1.0\n",
       "2    2.0\n",
       "3    3.0\n",
       "4    4.0\n",
       "Name: Round Numbers, dtype: float64"
      ]
     },
     "execution_count": 58,
     "metadata": {},
     "output_type": "execute_result"
    }
   ],
   "source": [
    "# Now that also the NaN have been removed let's secelct only the Column we are interested in\n",
    "df.where(df['Round Numbers']<5).dropna().loc[:,'Round Numbers']"
   ]
  },
  {
   "cell_type": "markdown",
   "metadata": {},
   "source": [
    "## <span style=\"color:blue\"> **Exercise** </span>\n",
    "\n",
    "1. Create a new DataFrame with only data With Error > -0.01\n"
   ]
  },
  {
   "cell_type": "code",
   "execution_count": null,
   "metadata": {},
   "outputs": [],
   "source": []
  },
  {
   "cell_type": "markdown",
   "metadata": {},
   "source": [
    "#### How to iterate over Pandas DataFrame\n",
    "\n",
    "Given the large number of Functions and \".methods\" that exist for dataFrames in pandas, there are very few instances where one will need to iterate. \n",
    "\n",
    "This section gives an example on how to set this up by using:\n",
    "\n",
    " - `iterrows()`\n",
    " \n"
   ]
  },
  {
   "cell_type": "code",
   "execution_count": null,
   "metadata": {},
   "outputs": [],
   "source": [
    "for index, row in df.iterrows() :\n",
    "    print(row['Round Numbers'], row['Exact Numbers'])"
   ]
  },
  {
   "cell_type": "markdown",
   "metadata": {},
   "source": [
    "### Read and Write DataFrames to Files\n",
    "\n",
    "Pandas dataframes are designed to ease the access to files and external data bases like excel files  / csv file. \n",
    "\n",
    "Pandas is equipped with functions to write to files like:\n",
    "\n",
    " - `to_csv()`\n",
    " - `.XlsxWriter()` & `to_excel()`\n",
    "\n",
    "and Read from Files:\n",
    "- `read_csv()`\n",
    "- `read_excel()`\n",
    "- `read_table()`\n",
    "\n",
    "Additionally, any form of inport with that take data and bring it into a `list` can be transformed easily into a dataframe. \n",
    "\n"
   ]
  },
  {
   "cell_type": "markdown",
   "metadata": {},
   "source": [
    "#### Read\n",
    "\n",
    "Files can be read directly into a DataFrame which is the most convenient form of handling data."
   ]
  },
  {
   "cell_type": "code",
   "execution_count": null,
   "metadata": {},
   "outputs": [],
   "source": [
    "#folder_directory and file paths can be combined as seen in the previous sections\n",
    "\n",
    "#folder_directory = r'C:\\Users\\meert.j\\OneDrive - Procter and Gamble\\PnG\\trainings\\python training1819\\python-training-master\\\\python-training-master\\Basic\\\\'\n",
    "folder_directory = 'C:/Users/gabriele.a/Documents/Git Repository/PG_Python_Training/Current Training/NoteBooks/'\n",
    "\n",
    "file_name = 'noisy-timeserie-data.csv'\n",
    "\n",
    "file_path = folder_directory+file_name\n",
    "\n",
    "df = pd.read_csv(file_path, header=0, sep=',')\n",
    "\n",
    "df.iloc[0:5,0:3]"
   ]
  },
  {
   "cell_type": "code",
   "execution_count": null,
   "metadata": {},
   "outputs": [],
   "source": [
    "#folder_directory and file paths can be combined as seen in the previous sections\n",
    "#folder_directory = 'C:/Users/gabriele.a/Documents/Git Repository/PG_Python_Training/Current Training/NoteBooks/'\n",
    "\n",
    "file_name = 'noisy-timeserie-data.xlsx'\n",
    "\n",
    "file_path = folder_directory+file_name\n",
    "\n",
    "# the Excel_Read is able to start reading from  specific row and Skim through the sheets\n",
    "df = pd.read_excel(file_path, sheet_name='Sheet1',header=0, skiprows=None, convert_float=False)\n",
    "\n",
    "df.iloc[0:5,0:3]"
   ]
  },
  {
   "cell_type": "markdown",
   "metadata": {},
   "source": [
    "### Write\n",
    "\n",
    "Data back to a file is similar to reading. with the expection of writing to excel which can be more tricky.\n",
    "\n",
    "The simple case is writing `to_csv` files:"
   ]
  },
  {
   "cell_type": "code",
   "execution_count": null,
   "metadata": {},
   "outputs": [],
   "source": [
    "#folder_directory = 'C:/Users/gabriele.a/Documents/Git Repository/PG_Python_Training/Current Training/NoteBooks/'\n",
    "file_name = 'noisy-timeserie-data_and_tan.csv'\n",
    "file_path = folder_directory+file_name\n",
    "\n",
    "df.loc[:,'Noisy Tangent'] = df.loc[:,'Noisy Sine'] / df.loc[:,'Noisy Cosine']\n",
    "\n",
    "df.to_csv(path_or_buf=file_path, \n",
    "          sep=',', \n",
    "          header = True, # This keeps the header in the csv file\n",
    "          index= False)  # Index False removes the row numbers present in the Datatable\n",
    "\n",
    "# for the full list of options in to_csv consult the help()"
   ]
  },
  {
   "cell_type": "markdown",
   "metadata": {},
   "source": [
    "Although csv files are readily open by Excel for certain applications it might be usefull to save directly to an excel file\n",
    "\n",
    "Saving to an excel file is slightly more complex, since you need first an Excel Writer Engine\n",
    "\n",
    "Pandas writes Excel files using the Xlwt module for xls files and the Openpyxl or XlsxWriter modules for xlsx files.\n"
   ]
  },
  {
   "cell_type": "code",
   "execution_count": null,
   "metadata": {},
   "outputs": [],
   "source": [
    "#folder_directory = 'C:/Users/gabriele.a/Documents/Git Repository/PG_Python_Training/Current Training/NoteBooks/'\n",
    "file_name = 'noisy-timeserie-data_and_tan.xlsx'\n",
    "file_path = folder_directory+file_name\n",
    "\n",
    "\n",
    "df.loc[:,'Noisy Tangent'] = df.loc[:,'Noisy Sine'] / df.loc[:,'Noisy Cosine']\n",
    "\n",
    "#print(df.iloc[:,0:5])\n",
    "\n",
    "# Create a Pandas Excel writer using XlsxWriter as the engine.\n",
    "writer = pd.ExcelWriter(file_path, engine='xlsxwriter')\n",
    "\n",
    "# Convert the dataframe to an XlsxWriter Excel object.\n",
    "df.to_excel(writer, \n",
    "            sheet_name='my_first_sheet',\n",
    "            index = False)\n",
    "\n",
    "# Close the Pandas Excel writer and output the Excel file.\n",
    "writer.save()\n"
   ]
  },
  {
   "cell_type": "code",
   "execution_count": null,
   "metadata": {},
   "outputs": [],
   "source": []
  }
 ],
 "metadata": {
  "kernelspec": {
   "display_name": "Python 3",
   "language": "python",
   "name": "python3"
  },
  "language_info": {
   "codemirror_mode": {
    "name": "ipython",
    "version": 3
   },
   "file_extension": ".py",
   "mimetype": "text/x-python",
   "name": "python",
   "nbconvert_exporter": "python",
   "pygments_lexer": "ipython3",
   "version": "3.5.5"
  }
 },
 "nbformat": 4,
 "nbformat_minor": 1
}
