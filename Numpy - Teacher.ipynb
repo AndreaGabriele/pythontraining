{
 "cells": [
  {
   "cell_type": "markdown",
   "metadata": {},
   "source": [
    "# Python - Numpy\n",
    "Andrea Gabriele - Procter & Gamble - 2018 - gabriele.a@pg.com"
   ]
  },
  {
   "cell_type": "markdown",
   "metadata": {
    "collapsed": true
   },
   "source": [
    "### List\n",
    "Lists are a very useful variable type in Python. A list can contain a series of values. List variables are declared by using brackets [ ] following the variable name."
   ]
  },
  {
   "cell_type": "code",
   "execution_count": 4,
   "metadata": {},
   "outputs": [],
   "source": [
    "A = [ ] # This is a blank list variable\n",
    "B = [1, 23, 45, 67] # this list creates an initial list of 4 numbers.\n",
    "C = [2, 4, 'john'] # lists can contain different variable types."
   ]
  },
  {
   "cell_type": "markdown",
   "metadata": {},
   "source": [
    " When referencing a member or the length of a list the number of list elements is always the number shown plus one."
   ]
  },
  {
   "cell_type": "code",
   "execution_count": 3,
   "metadata": {},
   "outputs": [
    {
     "name": "stdout",
     "output_type": "stream",
     "text": [
      "[1, 2, 'firstName', 'dog', 'cat']\n"
     ]
    }
   ],
   "source": [
    "C = [1,2,'firstName']\n",
    "\n",
    "C.append('dog')\n",
    "C.append('cat')\n",
    "\n",
    "print(C)"
   ]
  },
  {
   "cell_type": "markdown",
   "metadata": {},
   "source": [
    "## <span style=\"color:blue\"> **Exercise** </span>\n",
    "\n",
    "Print the third element of the List C\n"
   ]
  },
  {
   "cell_type": "code",
   "execution_count": 5,
   "metadata": {},
   "outputs": [],
   "source": [
    "C = [12224,1,'third',4]"
   ]
  },
  {
   "cell_type": "code",
   "execution_count": 6,
   "metadata": {},
   "outputs": [
    {
     "name": "stdout",
     "output_type": "stream",
     "text": [
      "third\n"
     ]
    }
   ],
   "source": [
    "# Result\n",
    "print(C[2])"
   ]
  },
  {
   "cell_type": "code",
   "execution_count": 7,
   "metadata": {},
   "outputs": [
    {
     "name": "stdout",
     "output_type": "stream",
     "text": [
      "4\n",
      "Grasshopper\n",
      "['Rhino', 'Grasshopper']\n"
     ]
    }
   ],
   "source": [
    "mylist = ['Rhino', 'Grasshopper', 'Flamingo', 'Bongo']\n",
    "B = len(mylist) # This will return the length of the list which is 3. The index is 0, 1, 2, 3.\n",
    "print(B)\n",
    "print(mylist[1]) # This will return the value at index 1, which is 'Grasshopper'\n",
    "print(mylist[0:2]) # This will return the first 2 elements in the list."
   ]
  },
  {
   "cell_type": "markdown",
   "metadata": {},
   "source": [
    "Lists aren’t limited to a single dimension. Although most people can’t comprehend more than three or four dimensions. You can declare multiple dimensions by separating an with commas. In the following example, the MyTable variable is a two-dimensional array :"
   ]
  },
  {
   "cell_type": "code",
   "execution_count": null,
   "metadata": {
    "collapsed": true
   },
   "outputs": [],
   "source": [
    "MyTable = [[], []]"
   ]
  },
  {
   "cell_type": "markdown",
   "metadata": {},
   "source": [
    "## <span style=\"color:blue\"> **Exercise** </span>\n",
    "\n",
    "Create a 2 dimentions List"
   ]
  },
  {
   "cell_type": "code",
   "execution_count": 48,
   "metadata": {},
   "outputs": [
    {
     "name": "stdout",
     "output_type": "stream",
     "text": [
      "3\n"
     ]
    }
   ],
   "source": [
    "# Result\n",
    "MyTable = [[1,2,3], [4,5,6]]\n",
    "\n",
    "print(MyTable[0][2])"
   ]
  },
  {
   "cell_type": "markdown",
   "metadata": {},
   "source": [
    "#### List Methods\n",
    "Here are some other common list methods.\n",
    "\n",
    "* list.append(elem) \n",
    "    * Adds a single element to the end of the list. Does not return the new list, just modifies the original.\n",
    "    \n",
    "* list.insert(index, elem) \n",
    "    * Inserts the element at the given index, shifting elements to the right.\n",
    "    \n",
    "* list.extend(list2)\n",
    "    * Adds the elements in list2 to the end of the list. Using + or += on a list is similar to using extend().\n",
    "    \n",
    "* list.index(elem) \n",
    "    * Searches for the given element from the start of the list and returns its index. Throws a ValueError if the element does not appear (use \"in\" to check without a ValueError).\n",
    "    \n",
    "* list.remove(elem) \n",
    "    * Searches for the first instance of the given element and removes it (throws ValueError if not present)\n",
    "    \n",
    "* list.sort()\n",
    "    * Sorts the list in place (does not return it). (The sorted() function shown below is preferred.)\n",
    "    \n",
    "* list.reverse() \n",
    "    * Reverses the list in place (does not return it)\n",
    "    \n",
    "* list.pop(index)\n",
    "    * Removes and returns the element at the given index. Returns the rightmost element if index is omitted (roughly the opposite of append()).\n",
    "\n"
   ]
  },
  {
   "cell_type": "markdown",
   "metadata": {},
   "source": [
    "## <span style=\"color:blue\"> **Exercise** </span>\n",
    "\n",
    "1. Append an item to the List    `mylist`"
   ]
  },
  {
   "cell_type": "code",
   "execution_count": 3,
   "metadata": {},
   "outputs": [
    {
     "name": "stdout",
     "output_type": "stream",
     "text": [
      "[1, 2, 3, 4]\n"
     ]
    }
   ],
   "source": [
    "#Result 1.\n",
    "mylist = [1,2,3]\n",
    "mylist.append(4)\n",
    "\n",
    "print(mylist)"
   ]
  },
  {
   "cell_type": "code",
   "execution_count": 38,
   "metadata": {},
   "outputs": [],
   "source": [
    "mylist"
   ]
  },
  {
   "cell_type": "markdown",
   "metadata": {},
   "source": [
    "2. Create a list of 4 itmes and insert an element between the 2nd and 3rd item"
   ]
  },
  {
   "cell_type": "code",
   "execution_count": 50,
   "metadata": {},
   "outputs": [
    {
     "name": "stdout",
     "output_type": "stream",
     "text": [
      "[1, 2, 'new', 3]\n"
     ]
    }
   ],
   "source": [
    "#Result 2.\n",
    "mylist = [1,2,3]\n",
    "mylist.insert(2,'new')\n",
    "print(mylist)"
   ]
  },
  {
   "cell_type": "markdown",
   "metadata": {},
   "source": [
    "3. Remove Item in position 2 from the list"
   ]
  },
  {
   "cell_type": "code",
   "execution_count": 41,
   "metadata": {},
   "outputs": [
    {
     "name": "stdout",
     "output_type": "stream",
     "text": [
      "[1, 2]\n"
     ]
    }
   ],
   "source": [
    "#Result 3.\n",
    "mylist = [1,2,3]\n",
    "mylist.pop(2)\n",
    "print(mylist)"
   ]
  },
  {
   "cell_type": "markdown",
   "metadata": {},
   "source": [
    "# Numpy"
   ]
  },
  {
   "cell_type": "markdown",
   "metadata": {},
   "source": [
    "Numpy is the core library for scientific computing in Python. It provides a high-performance multidimensional array object, and tools for working with these arrays. If you are already familiar with MATLAB, you might find this tutorial useful to get started with Numpy\n",
    "\n",
    "NumPy is a module for Python. The name is an acronym for \"Numeric Python\" or \"Numerical Python\"\n",
    "\n",
    "NumPy enriches the programming language Python with powerful data structures, implementing multi-dimensional arrays and matrices. These data structures guarantee efficient calculations with matrices and arrays. The implementation is even aiming at huge matrices and arrays, better know under the heading of \"big data\"."
   ]
  },
  {
   "cell_type": "markdown",
   "metadata": {},
   "source": [
    "Using numpy for math operations (create array, matrices, indexing and slicing, math operations)<br>"
   ]
  },
  {
   "cell_type": "markdown",
   "metadata": {},
   "source": [
    "### Importing Numpy"
   ]
  },
  {
   "cell_type": "code",
   "execution_count": 8,
   "metadata": {},
   "outputs": [],
   "source": [
    "import numpy as np"
   ]
  },
  {
   "cell_type": "markdown",
   "metadata": {},
   "source": [
    "### Numpy objects: Numpy Array"
   ]
  },
  {
   "cell_type": "markdown",
   "metadata": {},
   "source": [
    "One step Back. Operations with Lists. List multiplications lead to repeatitions of lists"
   ]
  },
  {
   "cell_type": "markdown",
   "metadata": {},
   "source": [
    "## <span style=\"color:blue\"> **Exercise** </span>\n",
    "Generate a list of 4 numerical elements and multiply by 3\n"
   ]
  },
  {
   "cell_type": "code",
   "execution_count": 12,
   "metadata": {},
   "outputs": [
    {
     "name": "stdout",
     "output_type": "stream",
     "text": [
      "[1, 2, 3, 4, 1, 2, 3, 4]\n"
     ]
    }
   ],
   "source": [
    "mylist1 = [1,2,3,4]\n",
    "\n",
    "prod_lists = mylist1 *3\n",
    "\n",
    "print(prod_lists)\n"
   ]
  },
  {
   "cell_type": "markdown",
   "metadata": {},
   "source": [
    "Numpy introduces numpu arrays to do scientific programming, somewhat like MATLAB\n"
   ]
  },
  {
   "cell_type": "code",
   "execution_count": 9,
   "metadata": {},
   "outputs": [
    {
     "name": "stdout",
     "output_type": "stream",
     "text": [
      "[1 2 3 4]\n",
      "<class 'numpy.ndarray'>\n"
     ]
    }
   ],
   "source": [
    "# Create an array with numpy\n",
    "v = np.array([1,2,3,4])\n",
    "print(v)\n",
    "print(type(v))"
   ]
  },
  {
   "cell_type": "markdown",
   "metadata": {},
   "source": [
    "## <span style=\"color:blue\"> **Exercise** </span>\n",
    "Generate an np.array of 4 numerical elements and multiply by 3\n"
   ]
  },
  {
   "cell_type": "code",
   "execution_count": null,
   "metadata": {},
   "outputs": [],
   "source": [
    "v =\n",
    "\n",
    "print(v)"
   ]
  },
  {
   "cell_type": "code",
   "execution_count": 10,
   "metadata": {},
   "outputs": [
    {
     "name": "stdout",
     "output_type": "stream",
     "text": [
      "Shape = (4,)\n"
     ]
    }
   ],
   "source": [
    "# Get the dimensions of the array, as a tuple\n",
    "print('Shape = ' + str(v.shape))"
   ]
  },
  {
   "cell_type": "code",
   "execution_count": null,
   "metadata": {},
   "outputs": [],
   "source": [
    "# Get the dimension of the array (first index) as a number \n",
    "print(v.shape[0])"
   ]
  },
  {
   "cell_type": "markdown",
   "metadata": {},
   "source": [
    "A Product and Sum of Arrays result in element wise operations"
   ]
  },
  {
   "cell_type": "code",
   "execution_count": 17,
   "metadata": {},
   "outputs": [
    {
     "name": "stdout",
     "output_type": "stream",
     "text": [
      "Sum = [6 5 4 3]\n",
      "Mult = [8 6 4 2]\n"
     ]
    }
   ],
   "source": [
    "# Simple operations with arrays\n",
    "v1 = np.array([4,3,2,1])\n",
    "v2 = np.array([2,2,2,2])\n",
    "\n",
    "v3 = v1+v2\n",
    "print('Sum = ' +str(v3))\n",
    "\n",
    "v3 = v1*v2\n",
    "print('Mult = ' + str(v3))"
   ]
  },
  {
   "cell_type": "markdown",
   "metadata": {},
   "source": [
    "In the same way as for Lists it is possible to create a 2D arrays which in this case are Matries"
   ]
  },
  {
   "cell_type": "code",
   "execution_count": 18,
   "metadata": {},
   "outputs": [
    {
     "name": "stdout",
     "output_type": "stream",
     "text": [
      "[[1 2 3]\n",
      " [4 5 6]]\n",
      "[[1 2 3]\n",
      " [4 5 6]]\n"
     ]
    }
   ],
   "source": [
    "# Creating a matrix\n",
    "m1 = np.array([[1,2,3],[4,5,6]])\n",
    "print(m1)\n",
    "\n",
    "# Or\n",
    "\n",
    "m1 = np.mat([[1,2,3],[4,5,6]])\n",
    "print(m1)"
   ]
  },
  {
   "cell_type": "code",
   "execution_count": 19,
   "metadata": {},
   "outputs": [
    {
     "name": "stdout",
     "output_type": "stream",
     "text": [
      "[[0. 0. 0. 0. 0.]\n",
      " [0. 0. 0. 0. 0.]\n",
      " [0. 0. 0. 0. 0.]\n",
      " [0. 0. 0. 0. 0.]]\n",
      "[[1. 1. 1.]\n",
      " [1. 1. 1.]\n",
      " [1. 1. 1.]]\n",
      "[[1. 0. 0. 0.]\n",
      " [0. 1. 0. 0.]\n",
      " [0. 0. 1. 0.]\n",
      " [0. 0. 0. 1.]]\n"
     ]
    }
   ],
   "source": [
    "# Simple functions to create matrices\n",
    "m1 = np.zeros((4,5))\n",
    "print(m1)\n",
    "\n",
    "m1 = np.ones((3,3))\n",
    "print(m1)\n",
    "\n",
    "m1 = np.eye(4)\n",
    "print(m1)"
   ]
  },
  {
   "cell_type": "code",
   "execution_count": 20,
   "metadata": {},
   "outputs": [
    {
     "name": "stdout",
     "output_type": "stream",
     "text": [
      "[[ 44 107 170]]\n"
     ]
    }
   ],
   "source": [
    "# Numpy has all the matrix algebra functions: np.dot, np.cross, np.T, \n",
    "m1 = np.mat([[1,2,3],[4,5,6],[7,8,9]])\n",
    "m2 = np.array([6,7,8])\n",
    "m3 = np.dot(m1,m2)\n",
    "print(m3)"
   ]
  },
  {
   "cell_type": "markdown",
   "metadata": {},
   "source": [
    "### Indexing and Slicing\n",
    "Assigning to and accessing the elements of an array is similar to other sequential data types of Python, i.e. lists and tuples. We have also many options to indexing, which makes indexing in Numpy very powerful."
   ]
  },
  {
   "cell_type": "code",
   "execution_count": 32,
   "metadata": {},
   "outputs": [
    {
     "name": "stdout",
     "output_type": "stream",
     "text": [
      "1\n",
      "21\n"
     ]
    }
   ],
   "source": [
    "a = np.array([1, 1, 2, 3, 5, 8, 13, 21])\n",
    "# print the first element of a\n",
    "print(a[0])\n",
    "\n",
    "# print the last element of a\n",
    "print(a[-1])"
   ]
  },
  {
   "cell_type": "markdown",
   "metadata": {},
   "source": [
    "## <span style=\"color:blue\"> **Exercise** </span>\n",
    "print the center element of the matrix `m1`\n"
   ]
  },
  {
   "cell_type": "code",
   "execution_count": 33,
   "metadata": {},
   "outputs": [
    {
     "name": "stdout",
     "output_type": "stream",
     "text": [
      "\n"
     ]
    }
   ],
   "source": [
    "m1 = np.array([[1,2,3],\n",
    "             [4,5,6],\n",
    "             [7,8,9]])\n",
    "\n",
    "print(  )"
   ]
  },
  {
   "cell_type": "markdown",
   "metadata": {},
   "source": [
    "We illustrate the operating principle of \"slicing\" with some examples. We start with the easiest case, i.e. the slicing of a one-dimensional array:"
   ]
  },
  {
   "cell_type": "code",
   "execution_count": 34,
   "metadata": {},
   "outputs": [
    {
     "name": "stdout",
     "output_type": "stream",
     "text": [
      "[2 3 4]\n",
      "[0 1 2 3]\n"
     ]
    }
   ],
   "source": [
    "S = np.array([0, 1, 2, 3, 4, 5, 6, 7, 8, 9])\n",
    "print(S[2:5])\n",
    "print(S[:4])"
   ]
  },
  {
   "cell_type": "markdown",
   "metadata": {},
   "source": [
    "## <span style=\"color:blue\"> **Exercise** </span>\n",
    "print the last 4 elements of `S`\n"
   ]
  },
  {
   "cell_type": "code",
   "execution_count": null,
   "metadata": {},
   "outputs": [],
   "source": [
    "print(  )"
   ]
  },
  {
   "cell_type": "markdown",
   "metadata": {},
   "source": [
    "### Numpy Built in Functions\n",
    "\n",
    "Numpy gives many math operations (np.sqrt, np.sqr, np.sin, np.cos, ....)\n",
    "These are readly available as numpy is imported.\n"
   ]
  },
  {
   "cell_type": "code",
   "execution_count": null,
   "metadata": {},
   "outputs": [],
   "source": [
    "print(np.sqrt(4))"
   ]
  },
  {
   "cell_type": "code",
   "execution_count": null,
   "metadata": {},
   "outputs": [],
   "source": [
    "# That can be applied on numpy arrays easily\n",
    "vX = np.linspace(0,100,50) # creates an array of 50 numbers that go from 0 to 100\n",
    "vY = 4*vX**2\n",
    "plt.plot(vX,vY,'r--')\n",
    "plt.show()"
   ]
  },
  {
   "cell_type": "code",
   "execution_count": null,
   "metadata": {},
   "outputs": [],
   "source": [
    "# Another example with sin\n",
    "vTheta = np.linspace(0,4*np.pi,100) # create an array of values from 0 to 4*Pi\n",
    "vY = 4*np.sin(vTheta)\n",
    "\n",
    "plt.figure(2)\n",
    "plt.plot(vTheta,vY,'r')\n",
    "plt.show()"
   ]
  },
  {
   "cell_type": "markdown",
   "metadata": {},
   "source": [
    "## <span style=\"color:blue\"> **Exercise** </span>\n",
    "\n",
    "With What you learned so far. Create a numpy array `x` of 10000 element from -pi to pi. Find the minumum of arctan over this interval"
   ]
  },
  {
   "cell_type": "code",
   "execution_count": 21,
   "metadata": {},
   "outputs": [
    {
     "name": "stdout",
     "output_type": "stream",
     "text": [
      "-1.2626272556789115\n"
     ]
    }
   ],
   "source": [
    "x = np.linspace(-np.pi, np.pi,10000)\n",
    "\n",
    "archtan = np.arctan(x)\n",
    "\n",
    "min_archtan = min(archtan)\n",
    "\n",
    "print(min_archtan)\n"
   ]
  },
  {
   "cell_type": "code",
   "execution_count": null,
   "metadata": {},
   "outputs": [],
   "source": [
    "# Plenty of operations on arrays\n",
    "v = np.array([1,2,2,1,3,4])\n",
    "print('Average: ',v.mean())\n",
    "print('StDev: ',v.std())\n",
    "print('Max: ',v.max())\n",
    "print('Min: ',v.min())"
   ]
  },
  {
   "cell_type": "code",
   "execution_count": null,
   "metadata": {},
   "outputs": [],
   "source": [
    "# Boolean operations on arrays\n",
    "vBool = (v>2)\n",
    "print(vBool)\n",
    "\n",
    "vBoolSum = vBool.sum()\n",
    "print('Sum: ',vBoolSum)"
   ]
  },
  {
   "cell_type": "markdown",
   "metadata": {},
   "source": [
    "### Numpy Random Generators\n",
    "\n",
    "Numpy gives many math operations (np.sqrt, np.sqr, np.sin, np.cos, ....)\n",
    "These are readly available as numpy is imported.\n"
   ]
  },
  {
   "cell_type": "code",
   "execution_count": 35,
   "metadata": {},
   "outputs": [
    {
     "name": "stdout",
     "output_type": "stream",
     "text": [
      "2\n",
      "[0.60395354 0.18027934 0.7571813  0.18262779 0.35599988]\n",
      "[[0.26661374 0.4728238  0.61596226 0.43463204]\n",
      " [0.27411452 0.83553365 0.8598699  0.43534406]\n",
      " [0.76350097 0.75585034 0.10631382 0.7563358 ]]\n",
      "[-0.27010913  0.65080807 -1.11731235  0.16660233 -0.24817999]\n"
     ]
    }
   ],
   "source": [
    "# Numpy random generation library\n",
    "a = np.random.randint(5) # generates an integer random number between 0 and 5\n",
    "print(a)\n",
    "\n",
    "a = np.random.rand(5) # generates an array of dimension 5 with random numbers between 0 and 1\n",
    "print(a)\n",
    "\n",
    "a = np.random.rand(3,4) # generates a matrix 3 x 4 of random numbers between 0 and 1\n",
    "print(a)\n",
    "\n",
    "a = np.random.randn(5) # generates an array of dimension 5 with normally distributed numbers (avg=0, stDev=1)\n",
    "print(a)\n"
   ]
  },
  {
   "cell_type": "markdown",
   "metadata": {},
   "source": [
    "## <span style=\"color:blue\"> **Exercise** </span>"
   ]
  },
  {
   "cell_type": "markdown",
   "metadata": {},
   "source": [
    "### Exercise: montecarlo simulation of product weight\n",
    "A production line adds 2 ingredients in a package with 2 feeding system<br>\n",
    "+ Feeding system 1 has a target weight (avg) = 12g and standard deviation 2g\n",
    "+ Feeding system 2 has a target weight (avg) = 8g and standard deviation 1.5g\n",
    "\n",
    "The minimum weight of the package needs to be 18g, calculate defects over 10000 products<br>\n",
    "HINTS:\n",
    "+ to shift a normal distribution: w = Avg+StDev*Randn\n",
    "+ to plot an histogram use: plt.hist(w)"
   ]
  },
  {
   "cell_type": "code",
   "execution_count": 36,
   "metadata": {},
   "outputs": [
    {
     "name": "stdout",
     "output_type": "stream",
     "text": [
      "[[False False False ... False False False]]\n",
      "ppm:  2130.0\n"
     ]
    },
    {
     "data": {
      "image/png": "[encoded data removed]",
      "text/plain": [
       "<matplotlib.figure.Figure at 0x5b12b70>"
      ]
     },
     "metadata": {},
     "output_type": "display_data"
    }
   ],
   "source": [
    "%matplotlib inline\n",
    "import matplotlib.pyplot as plt\n",
    "\n",
    "N_samples = 10000\n",
    "\n",
    "p1 = 12 + np.random.randn(1,10000)*2\n",
    "p2 = 8 + np.random.randn(1,10000)*1.5\n",
    "\n",
    "p3 =  p1 + p2;\n",
    "\n",
    "plt.hist(list(p1))\n",
    "plt.hist(list(p2))\n",
    "plt.hist(list(p3))\n",
    "\n",
    "vBool = (p3<18)\n",
    "print(vBool)\n",
    "\n",
    "vBoolSum = vBool.sum()\n",
    "print('ppm: ',vBoolSum/N_samples*10000)"
   ]
  },
  {
   "cell_type": "code",
   "execution_count": null,
   "metadata": {},
   "outputs": [],
   "source": [
    "# Example: flip a coin several times until head comes out 2 times in a row\n",
    "# generate a random number 0 or 1 (0=tail, 1=head)\n",
    "import random\n",
    "\n",
    "vSum = 0\n",
    "vTarget = 3\n",
    "\n",
    "for i in range(100):\n",
    "    v = random.randint(0,1)\n",
    "    print('It(%d) = %d',(i,v))\n",
    "    \n",
    "    if(v==1):\n",
    "        vSum+=1\n",
    "    else:\n",
    "        vSum = 0\n",
    "    \n",
    "    if(vSum>=vTarget):\n",
    "        print('SUCCESS! After %d iterations',i)\n",
    "        break\n",
    "    \n",
    "\n",
    "\n",
    "    "
   ]
  },
  {
   "cell_type": "markdown",
   "metadata": {},
   "source": [
    "## <span style=\"color:blue\"> **Exercise** </span>"
   ]
  },
  {
   "cell_type": "markdown",
   "metadata": {},
   "source": [
    "Simulate a dice game with 2 dices (each dice can output a number from 1 to 6)<br>\n",
    "Throw dices until a perfect 8 (= 4+4) is obtained\n",
    "\n"
   ]
  },
  {
   "cell_type": "code",
   "execution_count": null,
   "metadata": {},
   "outputs": [],
   "source": [
    "\n",
    "import random\n",
    "\n",
    "vSum = 0\n",
    "vTarget = 1\n",
    "\n",
    "for i in range(300):\n",
    "    v1 = random.randint(1,6)\n",
    "    v2 = random.randint(1,6)\n",
    "    print('It(%d) = %d, %d',(i,v1,v2))\n",
    "    \n",
    "    if(v1==v2==4):\n",
    "        vSum+=1\n",
    "    else:\n",
    "        vSum = 0\n",
    "    \n",
    "    if(vSum>=vTarget):\n",
    "        print('SUCCESS! After %d iterations',i)\n",
    "        break"
   ]
  }
 ],
 "metadata": {
  "kernelspec": {
   "display_name": "Python 3",
   "language": "python",
   "name": "python3"
  },
  "language_info": {
   "codemirror_mode": {
    "name": "ipython",
    "version": 3
   },
   "file_extension": ".py",
   "mimetype": "text/x-python",
   "name": "python",
   "nbconvert_exporter": "python",
   "pygments_lexer": "ipython3",
   "version": "3.5.5"
  }
 },
 "nbformat": 4,
 "nbformat_minor": 2
}
