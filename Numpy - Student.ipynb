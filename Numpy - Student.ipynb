{
 "cells": [
  {
   "cell_type": "markdown",
   "metadata": {},
   "source": [
    "# Python 1.9 - Numpy"
   ]
  },
  {
   "cell_type": "markdown",
   "metadata": {},
   "source": [
    "Using numpy for math operations (create array, matrices, indexing and slicing, math operations)<br>"
   ]
  },
  {
   "cell_type": "code",
   "execution_count": 1,
   "metadata": {},
   "outputs": [],
   "source": [
    "%matplotlib inline\n",
    "#%matplotlib\n",
    "import numpy as np\n",
    "import matplotlib.pyplot as plt"
   ]
  },
  {
   "cell_type": "code",
   "execution_count": 2,
   "metadata": {},
   "outputs": [
    {
     "name": "stdout",
     "output_type": "stream",
     "text": [
      "[1 2 3 4]\n"
     ]
    }
   ],
   "source": [
    "# Create an array with numpy\n",
    "v = np.array([1,2,3,4])\n",
    "print(v)\n"
   ]
  },
  {
   "cell_type": "code",
   "execution_count": 3,
   "metadata": {},
   "outputs": [
    {
     "name": "stdout",
     "output_type": "stream",
     "text": [
      "Shape = (4,)\n"
     ]
    }
   ],
   "source": [
    "# Get the dimensions of the array, as a tuple\n",
    "print('Shape = ' + str(v.shape))"
   ]
  },
  {
   "cell_type": "code",
   "execution_count": 4,
   "metadata": {},
   "outputs": [
    {
     "name": "stdout",
     "output_type": "stream",
     "text": [
      "4\n"
     ]
    }
   ],
   "source": [
    "# Get the dimension of the array (first index) as a number \n",
    "print(v.shape[0])"
   ]
  },
  {
   "cell_type": "code",
   "execution_count": 5,
   "metadata": {},
   "outputs": [
    {
     "name": "stdout",
     "output_type": "stream",
     "text": [
      "Sum = [6 5 4 3]\n",
      "Mult = [8 6 4 2]\n"
     ]
    }
   ],
   "source": [
    "# Simple operations with arrays\n",
    "v1 = np.array([4,3,2,1])\n",
    "v2 = np.array([2,2,2,2])\n",
    "\n",
    "v3 = v1+v2\n",
    "print('Sum = ' +str(v3))\n",
    "\n",
    "v3 = v1*v2\n",
    "print('Mult = ' + str(v3))"
   ]
  },
  {
   "cell_type": "code",
   "execution_count": null,
   "metadata": {},
   "outputs": [],
   "source": [
    "# Plotting arrays (same as with lists)\n",
    "plt.figure('Emma')\n",
    "plt.plot(v1,'ro')\n",
    "plt.show()"
   ]
  },
  {
   "cell_type": "code",
   "execution_count": 6,
   "metadata": {},
   "outputs": [
    {
     "name": "stdout",
     "output_type": "stream",
     "text": [
      "[[1 2 3]\n",
      " [4 5 6]]\n",
      "[[1 2 3]\n",
      " [4 5 6]]\n"
     ]
    }
   ],
   "source": [
    "# Creating a matrix\n",
    "m1 = np.array([[1,2,3],[4,5,6]])\n",
    "print(m1)\n",
    "\n",
    "# Or\n",
    "\n",
    "m1 = np.mat([[1,2,3],[4,5,6]])\n",
    "print(m1)"
   ]
  },
  {
   "cell_type": "code",
   "execution_count": 7,
   "metadata": {},
   "outputs": [
    {
     "name": "stdout",
     "output_type": "stream",
     "text": [
      "[[0. 0. 0. 0. 0.]\n",
      " [0. 0. 0. 0. 0.]\n",
      " [0. 0. 0. 0. 0.]\n",
      " [0. 0. 0. 0. 0.]]\n",
      "[[1. 1. 1.]\n",
      " [1. 1. 1.]\n",
      " [1. 1. 1.]]\n",
      "[[1. 0. 0. 0.]\n",
      " [0. 1. 0. 0.]\n",
      " [0. 0. 1. 0.]\n",
      " [0. 0. 0. 1.]]\n"
     ]
    }
   ],
   "source": [
    "# Simple functions to create matrices\n",
    "m1 = np.zeros((4,5))\n",
    "print(m1)\n",
    "\n",
    "m1 = np.ones((3,3))\n",
    "print(m1)\n",
    "\n",
    "m1 = np.eye(4)\n",
    "print(m1)"
   ]
  },
  {
   "cell_type": "code",
   "execution_count": 8,
   "metadata": {},
   "outputs": [
    {
     "name": "stdout",
     "output_type": "stream",
     "text": [
      "[[ 44 107 170]]\n"
     ]
    }
   ],
   "source": [
    "# Numpy has all the matrix algebra functions: np.dot, np.cross, np.T, \n",
    "m1 = np.mat([[1,2,3],[4,5,6],[7,8,9]])\n",
    "m2 = np.array([6,7,8])\n",
    "m3 = np.dot(m1,m2)\n",
    "print(m3)"
   ]
  },
  {
   "cell_type": "code",
   "execution_count": null,
   "metadata": {},
   "outputs": [],
   "source": [
    "# Change shape with reshape(returns an arugment with modified shape) and resize(acts on the object itself)\n",
    "m1 = np.array([[1,2,3],[4,5,6]])\n",
    "print(m1)\n",
    "\n",
    "m2 = m1.reshape((-1,1))\n",
    "print(m2)"
   ]
  },
  {
   "cell_type": "code",
   "execution_count": null,
   "metadata": {},
   "outputs": [],
   "source": [
    "# Numpy gives many math operations (np.sqrt, np.sqr, np.sin, np.cos, ....)\n",
    "print(np.sqrt(4))"
   ]
  },
  {
   "cell_type": "code",
   "execution_count": null,
   "metadata": {},
   "outputs": [],
   "source": [
    "# That can be applied on numpy arrays easily\n",
    "vX = np.linspace(0,100,250) # creates an array of 50 numbers that go from 0 to 100\n",
    "vY = 4*vX**2\n",
    "plt.plot(vX,vY,'dr--')\n",
    "plt.show()"
   ]
  },
  {
   "cell_type": "code",
   "execution_count": null,
   "metadata": {},
   "outputs": [],
   "source": [
    "# Another example with sin\n",
    "vTheta = np.linspace(0,4*np.pi,100) # create an array of values from 0 to 4*Pi\n",
    "vY = 4*np.sin(vTheta)\n",
    "\n",
    "plt.figure(2)\n",
    "plt.plot(vTheta,vY,'r')\n",
    "plt.show()"
   ]
  },
  {
   "cell_type": "code",
   "execution_count": null,
   "metadata": {},
   "outputs": [],
   "source": [
    "# Plenty of operations on arrays\n",
    "v = np.array([1,2,2,1,3,4])\n",
    "print('Average: ',v.mean())\n",
    "print('StDev: ',v.std())\n",
    "print('Max: ',v.max())\n",
    "print('Min: ',v.min())"
   ]
  },
  {
   "cell_type": "code",
   "execution_count": null,
   "metadata": {},
   "outputs": [],
   "source": [
    "# Boolean operations on arrays\n",
    "vBool = (v>2)\n",
    "print(vBool)\n",
    "\n",
    "vBoolSum = vBool.sum()\n",
    "print('Sum: ',vBoolSum)"
   ]
  },
  {
   "cell_type": "code",
   "execution_count": null,
   "metadata": {},
   "outputs": [],
   "source": [
    "# Numpy random generation library\n",
    "a = np.random.randint(5) # generates an integer random number between 0 and 5\n",
    "a = np.random.rand(5) # generates an array of dimension 5 with random numbers between 0 and 1\n",
    "a = np.random.rand(3,4) # generates a matrix 3 x 4 of random numbers between 0 and 1\n",
    "a = np.random.randn(5) # generates an array of dimension 5 with normally distributed numbers (avg=0, stDev=1)\n",
    "\n",
    "print(a)"
   ]
  },
  {
   "cell_type": "markdown",
   "metadata": {},
   "source": [
    "### Exercise: montecarlo simulation of product weight\n",
    "A production line adds 2 ingredients in a package with 2 feeding system<br>\n",
    "+ Feeding system 1 has a target weight (avg) = 12g and standard deviation 2g\n",
    "+ Feeding system 2 has a target weight (avg) = 8g and standard deviation 1.5g\n",
    "\n",
    "The minimum weight of the package needs to be 18g, calculate defects over 10000 products<br>\n",
    "HINTS:\n",
    "+ to shift a normal distribution: w = Avg+StDev*Randn\n",
    "+ to plot an histogram use: plt.hist(w)"
   ]
  },
  {
   "cell_type": "code",
   "execution_count": null,
   "metadata": {},
   "outputs": [],
   "source": []
  },
  {
   "cell_type": "code",
   "execution_count": null,
   "metadata": {},
   "outputs": [],
   "source": []
  }
 ],
 "metadata": {
  "kernelspec": {
   "display_name": "Python 3",
   "language": "python",
   "name": "python3"
  },
  "language_info": {
   "codemirror_mode": {
    "name": "ipython",
    "version": 3
   },
   "file_extension": ".py",
   "mimetype": "text/x-python",
   "name": "python",
   "nbconvert_exporter": "python",
   "pygments_lexer": "ipython3",
   "version": "3.5.5"
  }
 },
 "nbformat": 4,
 "nbformat_minor": 2
}
